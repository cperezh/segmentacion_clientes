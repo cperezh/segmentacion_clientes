{
 "cells": [
  {
   "cell_type": "markdown",
   "id": "6494ff6c-abc7-43a1-8adb-cc73176a5f94",
   "metadata": {},
   "source": [
    "Decision Tree features"
   ]
  },
  {
   "cell_type": "code",
   "execution_count": null,
   "id": "cc467161-046f-4614-985a-709a93d5067e",
   "metadata": {},
   "outputs": [],
   "source": [
    "X = df_clientes_csv_rfm_with_label.drop(columns=[\"class_desc_short\",\"FECHA_REGISTRO\",\"FECHA_CLIENTE\",\"DESC_SECTOR\"])\n",
    "y = df_clientes_csv_rfm_with_label[\"class_desc_short\"].to_numpy()"
   ]
  },
  {
   "cell_type": "markdown",
   "id": "abc659d4-0f7f-4e33-addd-3b99f200f4b7",
   "metadata": {},
   "source": [
    "Oversampling"
   ]
  },
  {
   "cell_type": "code",
   "execution_count": null,
   "id": "62bd4850-3401-4729-af7f-3fe31beb7fe0",
   "metadata": {},
   "outputs": [],
   "source": [
    "from imblearn.over_sampling import RandomOverSampler\n",
    "X_ros, y_ros = RandomOverSampler(random_state=10).fit_resample(df_rfm,cluster_labels)"
   ]
  },
  {
   "cell_type": "markdown",
   "id": "76b163df-49fe-457b-8da2-42173a8eb8ea",
   "metadata": {},
   "source": [
    "Plot 3d Cluster"
   ]
  },
  {
   "cell_type": "code",
   "execution_count": 109,
   "id": "6d09b17e-dc35-40c6-8395-74b34b114751",
   "metadata": {
    "scrolled": true
   },
   "outputs": [],
   "source": [
    "# Función para visualizar los grupos RFM en 3D. Puede recibir las etiquetas de los datos\n",
    "def plot_rfm_3d_cluster(df, labels):\n",
    "    fig = plt.figure(figsize=(6, 4))\n",
    "    ax1 = fig.add_subplot(111, projection='3d')\n",
    "    scatter = ax1.scatter(xs=df[\"frequency\"], ys=df[\"monetary\"], zs=df[\"recency\"], c=labels, marker='o')\n",
    "\n",
    "    # Add labels\n",
    "    ax1.set_xlabel('frequency')\n",
    "    ax1.set_ylabel('monetary')\n",
    "    ax1.set_zlabel('recency')"
   ]
  },
  {
   "cell_type": "code",
   "execution_count": null,
   "id": "1a6d6b29-eb84-4b5e-8c1b-275883f99b7a",
   "metadata": {},
   "outputs": [],
   "source": [
    "# Código original extraido de CHATGPT y ajustado posteriormente\n",
    "\n",
    "from sklearn.metrics import silhouette_score, silhouette_samples\n",
    "\n",
    "# Fit k-means with different cluster sizes\n",
    "range_n_clusters = [2, 3, 4, 5, 6, 7, 8]\n",
    "for n_clusters in range_n_clusters:\n",
    "    kmeans = KMeans(n_clusters=n_clusters, random_state=42)\n",
    "    cluster_labels = kmeans.fit_predict(df_rfm_scaled)\n",
    "    \n",
    "    # Calculate the average silhouette score\n",
    "    silhouette_avg = silhouette_score(df_rfm_scaled, cluster_labels)\n",
    "    print(f\"For n_clusters = {n_clusters}, the average silhouette score is: {silhouette_avg:.3f}\")\n",
    "\n",
    "    # Calculate the silhouette score for each sample\n",
    "    sample_silhouette_values = silhouette_samples(df_rfm_scaled, cluster_labels)\n",
    "\n",
    "    # Plot silhouette analysis\n",
    "    fig, ax1= plt.subplots(1, 1, figsize=(10, 3))\n",
    "    y_lower = 10\n",
    "    for i in range(n_clusters):\n",
    "        # Aggregate silhouette scores for samples in the current cluster\n",
    "        ith_cluster_silhouette_values = sample_silhouette_values[cluster_labels == i]\n",
    "        ith_cluster_silhouette_values.sort()\n",
    "        \n",
    "        # Calculate where the cluster silhouette bar ends\n",
    "        size_cluster_i = ith_cluster_silhouette_values.shape[0]\n",
    "        y_upper = y_lower + size_cluster_i\n",
    "        \n",
    "        # Plot silhouette values\n",
    "        color = plt.cm.nipy_spectral(float(i) / n_clusters)\n",
    "        ax1.fill_betweenx(np.arange(y_lower, y_upper),\n",
    "                         0, ith_cluster_silhouette_values,\n",
    "                         facecolor=color, edgecolor=color, alpha=0.7)\n",
    "        ax1.text(-0.05, y_lower + 0.5 * size_cluster_i, str(i))\n",
    "        \n",
    "        y_lower = y_upper + 10  # Adjust for the next cluster\n",
    "\n",
    "        ax1.set_title(f\"Silhouette plot for {n_clusters} clusters\")\n",
    "        ax1.set_xlabel(\"Silhouette coefficient values\")\n",
    "        ax1.set_ylabel(\"Cluster\")\n",
    "        ax1.axvline(x=silhouette_avg, color=\"red\", linestyle=\"--\")\n",
    "        \n",
    "    plt.xticks(ticks=np.arange(0, 1, 0.05));\n",
    "    plt.grid(axis=\"x\")\n",
    "    plt.show()\n"
   ]
  },
  {
   "cell_type": "markdown",
   "id": "969ca62c-1b07-465b-8a49-97850ebbd7c5",
   "metadata": {},
   "source": [
    "### Cluster Jerarquico"
   ]
  },
  {
   "cell_type": "code",
   "execution_count": null,
   "id": "fc10b536-f3aa-47d1-8cde-05b1d3959b5c",
   "metadata": {},
   "outputs": [],
   "source": [
    "from sklearn.cluster import AgglomerativeClustering\n",
    "from scipy.cluster.hierarchy import dendrogram, linkage"
   ]
  },
  {
   "cell_type": "markdown",
   "id": "aa0b5b96-0c46-4d6e-b536-7ff67fae8ea2",
   "metadata": {},
   "source": [
    "Vamos a generar un dendograma con Agglomerative Clustering, y con el enlace \"single\", que es mejor para grupos no circulares."
   ]
  },
  {
   "cell_type": "code",
   "execution_count": null,
   "id": "16bb6ed6-ac8e-4a36-a59a-8a0aab76dbbe",
   "metadata": {},
   "outputs": [],
   "source": [
    "# Generate linkage matrix for dendrogram\n",
    "Z = linkage(df_rfm_scaled, method='single')\n",
    "\n",
    "# Plot the dendrogram\n",
    "plt.figure(figsize=(10, 3))\n",
    "dendrogram(Z, truncate_mode=\"level\", p=4)\n",
    "plt.title('Dendrogram - Agglomerative Clustering')\n",
    "plt.xlabel('Data Points')\n",
    "plt.ylabel('Euclidean Distance')\n",
    "plt.grid(True)\n",
    "plt.show()"
   ]
  },
  {
   "cell_type": "markdown",
   "id": "bc563e85-58e0-42f9-914f-32c1c027326a",
   "metadata": {},
   "source": [
    "Observando el Dendograma, "
   ]
  },
  {
   "cell_type": "code",
   "execution_count": null,
   "id": "5a5e3c89-00f5-49e9-9c37-989c6986bd61",
   "metadata": {},
   "outputs": [],
   "source": [
    "agg_labels = AgglomerativeClustering(n_clusters=5, linkage='single').fit_predict(df_rfm_scaled)"
   ]
  },
  {
   "cell_type": "code",
   "execution_count": null,
   "id": "5f42d268-4504-4105-a131-0083fa75e143",
   "metadata": {},
   "outputs": [],
   "source": [
    "plot_rfm_3d_cluster(df_rfm, agg_labels)"
   ]
  }
 ],
 "metadata": {
  "kernelspec": {
   "display_name": "Python 3",
   "language": "python",
   "name": "python3"
  },
  "language_info": {
   "codemirror_mode": {
    "name": "ipython",
    "version": 3
   },
   "file_extension": ".py",
   "mimetype": "text/x-python",
   "name": "python",
   "nbconvert_exporter": "python",
   "pygments_lexer": "ipython3",
   "version": "3.10.11"
  }
 },
 "nbformat": 4,
 "nbformat_minor": 5
}
