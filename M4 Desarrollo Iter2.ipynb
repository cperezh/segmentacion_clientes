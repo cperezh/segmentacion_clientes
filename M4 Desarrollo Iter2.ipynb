{
 "cells": [
  {
   "cell_type": "code",
   "execution_count": 1,
   "id": "260d67f8-cded-4cd3-bee0-55cb96efa267",
   "metadata": {
    "editable": true,
    "slideshow": {
     "slide_type": ""
    },
    "tags": []
   },
   "outputs": [],
   "source": [
    "import pandas as pd\n",
    "import numpy as np\n",
    "import matplotlib.pyplot as plt\n",
    "import seaborn as sns"
   ]
  },
  {
   "cell_type": "code",
   "execution_count": 2,
   "id": "29e179ff-c81a-4162-8eaa-b139e996cfe1",
   "metadata": {},
   "outputs": [],
   "source": [
    "from sklearn.model_selection import train_test_split\n",
    "from sklearn.preprocessing import OneHotEncoder"
   ]
  },
  {
   "cell_type": "markdown",
   "id": "25b74ffd-84d1-4a51-ae97-744122a4b9ed",
   "metadata": {},
   "source": [
    "# Iteración 1: Modelo predictivo con datos de Ventas (VP Informe)"
   ]
  },
  {
   "cell_type": "markdown",
   "id": "f475ebf2-6602-4a4f-b579-d8e9ed7530c9",
   "metadata": {},
   "source": [
    "## Data Exploration para clustering"
   ]
  },
  {
   "cell_type": "markdown",
   "id": "be969977-545e-44a9-a829-b53dbd06a050",
   "metadata": {},
   "source": [
    "### Declaración de DataFrames globales\n",
    "\n",
    "- **df_ventas_csv**: todo el fichero de VENTAS.TXT\n",
    "- **df_compras_usuario_producto_agg**: agregado de numero de compras y e importe de ventas por usuario y producto, sobre el df_ventas_csv.\n",
    "- **df_rfm**: extracción de variables rfm para df_ventas_csv,  filtrado para usuarios con 4 compras o más.\n",
    "- **df_rfm_scaled**: escalado gaussiano de df_rfm.\n",
    "- **df_labels**: dimension con los indices de los clusters, su descripción corta y larga.\n",
    "- **df_rfm_with_label**: mezcla de df_rfm y df_labels. Contiene los IDs de los clientes utilizados para el RFM, así como la clase asignada.\n",
    "- **df_clientes_csv**: todo el fichero de CLIENTES.TXT.\n",
    "- **df_clientes_csv_rfm_with_label**: clientes de df_clientes_csv, filtrados a aquellos que se encuentran en  df_rfm_with_labels y a los que asignamos la clase.\n",
    "- **df_sectores_csv**: todo el fichero SECTORES.TXT"
   ]
  },
  {
   "cell_type": "markdown",
   "id": "5fa534a7-ff6c-4cfa-80d8-6d77cae1e6fc",
   "metadata": {},
   "source": [
    "### Carga de los ficheros y exploración básica"
   ]
  },
  {
   "cell_type": "code",
   "execution_count": 3,
   "id": "35d4afa6-fa7e-49e3-8d9a-451236716b71",
   "metadata": {},
   "outputs": [],
   "source": [
    "df_ventas_csv = pd.read_csv(\"data/VENTAS.TXT\", sep=\"|\", header=0)"
   ]
  },
  {
   "cell_type": "code",
   "execution_count": 4,
   "id": "921c69db-330a-46f9-8acf-dcf0a5eb1ba5",
   "metadata": {},
   "outputs": [
    {
     "name": "stdout",
     "output_type": "stream",
     "text": [
      "<class 'pandas.core.frame.DataFrame'>\n",
      "RangeIndex: 20537 entries, 0 to 20536\n",
      "Data columns (total 5 columns):\n",
      " #   Column            Non-Null Count  Dtype \n",
      "---  ------            --------------  ----- \n",
      " 0   ID                20537 non-null  int64 \n",
      " 1   FECHAVENTA        20537 non-null  object\n",
      " 2   PRODUCTOCOMPRADO  20537 non-null  object\n",
      " 3   CANALVENTA        20537 non-null  object\n",
      " 4   IMPORTE           20537 non-null  int64 \n",
      "dtypes: int64(2), object(3)\n",
      "memory usage: 802.4+ KB\n"
     ]
    }
   ],
   "source": [
    "df_ventas_csv.info()"
   ]
  },
  {
   "cell_type": "code",
   "execution_count": 5,
   "id": "472f0014-3196-4e18-9880-babfcb460de8",
   "metadata": {},
   "outputs": [
    {
     "data": {
      "text/html": [
       "<div>\n",
       "<style scoped>\n",
       "    .dataframe tbody tr th:only-of-type {\n",
       "        vertical-align: middle;\n",
       "    }\n",
       "\n",
       "    .dataframe tbody tr th {\n",
       "        vertical-align: top;\n",
       "    }\n",
       "\n",
       "    .dataframe thead th {\n",
       "        text-align: right;\n",
       "    }\n",
       "</style>\n",
       "<table border=\"1\" class=\"dataframe\">\n",
       "  <thead>\n",
       "    <tr style=\"text-align: right;\">\n",
       "      <th></th>\n",
       "      <th>ID</th>\n",
       "      <th>FECHAVENTA</th>\n",
       "      <th>PRODUCTOCOMPRADO</th>\n",
       "      <th>CANALVENTA</th>\n",
       "      <th>IMPORTE</th>\n",
       "    </tr>\n",
       "  </thead>\n",
       "  <tbody>\n",
       "    <tr>\n",
       "      <th>0</th>\n",
       "      <td>6389279</td>\n",
       "      <td>21/3/2017 0:00:00</td>\n",
       "      <td>VP Informe</td>\n",
       "      <td>WEB</td>\n",
       "      <td>22</td>\n",
       "    </tr>\n",
       "    <tr>\n",
       "      <th>1</th>\n",
       "      <td>6389989</td>\n",
       "      <td>21/3/2017 0:00:00</td>\n",
       "      <td>VP Informe</td>\n",
       "      <td>WEB</td>\n",
       "      <td>15</td>\n",
       "    </tr>\n",
       "    <tr>\n",
       "      <th>2</th>\n",
       "      <td>6329507</td>\n",
       "      <td>1/2/2017 0:00:00</td>\n",
       "      <td>VP Informe</td>\n",
       "      <td>WEB</td>\n",
       "      <td>35</td>\n",
       "    </tr>\n",
       "    <tr>\n",
       "      <th>3</th>\n",
       "      <td>6326580</td>\n",
       "      <td>1/2/2017 0:00:00</td>\n",
       "      <td>VP Informe</td>\n",
       "      <td>WEB</td>\n",
       "      <td>22</td>\n",
       "    </tr>\n",
       "    <tr>\n",
       "      <th>4</th>\n",
       "      <td>6326580</td>\n",
       "      <td>1/2/2017 0:00:00</td>\n",
       "      <td>VP Informe</td>\n",
       "      <td>WEB</td>\n",
       "      <td>22</td>\n",
       "    </tr>\n",
       "  </tbody>\n",
       "</table>\n",
       "</div>"
      ],
      "text/plain": [
       "        ID         FECHAVENTA PRODUCTOCOMPRADO CANALVENTA  IMPORTE\n",
       "0  6389279  21/3/2017 0:00:00       VP Informe        WEB       22\n",
       "1  6389989  21/3/2017 0:00:00       VP Informe        WEB       15\n",
       "2  6329507   1/2/2017 0:00:00       VP Informe        WEB       35\n",
       "3  6326580   1/2/2017 0:00:00       VP Informe        WEB       22\n",
       "4  6326580   1/2/2017 0:00:00       VP Informe        WEB       22"
      ]
     },
     "execution_count": 5,
     "metadata": {},
     "output_type": "execute_result"
    }
   ],
   "source": [
    "df_ventas_csv.head()"
   ]
  },
  {
   "attachments": {},
   "cell_type": "markdown",
   "id": "b4f8919e-791f-49a6-90d8-85b42f30918a",
   "metadata": {},
   "source": [
    "El fichero de compras tiene 4 variables:\n",
    "- **ID**: Id único del cliente (numérico)\n",
    "- **FECHAVENTA**: fecha de la venta (fecha)\n",
    "- **PRODUCTOCOMPRADO**: el producto en concreto comprado (categorico)\n",
    "- **CANALVENTA**: canal de la vetna (categórico)\n",
    "- **IMPORTE**: importe de la venta (númerico)"
   ]
  },
  {
   "cell_type": "markdown",
   "id": "468f484a-e8b3-400d-9cdc-3fd5b12391b7",
   "metadata": {},
   "source": [
    "**Expandimos variable de tipo fecha**"
   ]
  },
  {
   "cell_type": "code",
   "execution_count": 6,
   "id": "2a440526-5682-4c22-ab01-0dbc0e9fd8b8",
   "metadata": {},
   "outputs": [],
   "source": [
    "df_ventas_csv['FECHAVENTA'] = pd.to_datetime(df_ventas_csv['FECHAVENTA'], format='%d/%m/%Y %H:%M:%S')\n",
    "df_ventas_csv['dia_venta'] = df_ventas_csv['FECHAVENTA'].dt.day\n",
    "df_ventas_csv['mes_venta'] = df_ventas_csv['FECHAVENTA'].dt.month\n",
    "df_ventas_csv['anio_venta'] = df_ventas_csv['FECHAVENTA'].dt.year"
   ]
  },
  {
   "cell_type": "markdown",
   "id": "547dd95d-7f96-46c5-84dc-be333c1dddb0",
   "metadata": {},
   "source": [
    "**Convertimos tipos y seteamos el index**"
   ]
  },
  {
   "cell_type": "code",
   "execution_count": 7,
   "id": "fbbb6200-5de3-4bda-95f1-2ab9bab696b5",
   "metadata": {},
   "outputs": [],
   "source": [
    "df_ventas_csv['ID'] = df_ventas_csv['ID'].astype(str).str.strip()"
   ]
  },
  {
   "cell_type": "code",
   "execution_count": 8,
   "id": "e4ec27a8-218e-4672-978b-f4671218f8ab",
   "metadata": {},
   "outputs": [
    {
     "data": {
      "text/html": [
       "<div>\n",
       "<style scoped>\n",
       "    .dataframe tbody tr th:only-of-type {\n",
       "        vertical-align: middle;\n",
       "    }\n",
       "\n",
       "    .dataframe tbody tr th {\n",
       "        vertical-align: top;\n",
       "    }\n",
       "\n",
       "    .dataframe thead th {\n",
       "        text-align: right;\n",
       "    }\n",
       "</style>\n",
       "<table border=\"1\" class=\"dataframe\">\n",
       "  <thead>\n",
       "    <tr style=\"text-align: right;\">\n",
       "      <th></th>\n",
       "      <th>FECHAVENTA</th>\n",
       "      <th>IMPORTE</th>\n",
       "      <th>dia_venta</th>\n",
       "      <th>mes_venta</th>\n",
       "      <th>anio_venta</th>\n",
       "    </tr>\n",
       "  </thead>\n",
       "  <tbody>\n",
       "    <tr>\n",
       "      <th>count</th>\n",
       "      <td>20537</td>\n",
       "      <td>20537.000000</td>\n",
       "      <td>20537.000000</td>\n",
       "      <td>20537.000000</td>\n",
       "      <td>20537.000000</td>\n",
       "    </tr>\n",
       "    <tr>\n",
       "      <th>mean</th>\n",
       "      <td>2020-08-05 08:30:44.086283264</td>\n",
       "      <td>77.900521</td>\n",
       "      <td>16.019867</td>\n",
       "      <td>6.578176</td>\n",
       "      <td>2020.090081</td>\n",
       "    </tr>\n",
       "    <tr>\n",
       "      <th>min</th>\n",
       "      <td>2017-01-02 00:00:00</td>\n",
       "      <td>6.000000</td>\n",
       "      <td>1.000000</td>\n",
       "      <td>1.000000</td>\n",
       "      <td>2017.000000</td>\n",
       "    </tr>\n",
       "    <tr>\n",
       "      <th>25%</th>\n",
       "      <td>2019-04-03 00:00:00</td>\n",
       "      <td>15.000000</td>\n",
       "      <td>8.000000</td>\n",
       "      <td>4.000000</td>\n",
       "      <td>2019.000000</td>\n",
       "    </tr>\n",
       "    <tr>\n",
       "      <th>50%</th>\n",
       "      <td>2020-10-14 00:00:00</td>\n",
       "      <td>35.000000</td>\n",
       "      <td>16.000000</td>\n",
       "      <td>7.000000</td>\n",
       "      <td>2020.000000</td>\n",
       "    </tr>\n",
       "    <tr>\n",
       "      <th>75%</th>\n",
       "      <td>2022-01-06 00:00:00</td>\n",
       "      <td>65.000000</td>\n",
       "      <td>24.000000</td>\n",
       "      <td>9.000000</td>\n",
       "      <td>2022.000000</td>\n",
       "    </tr>\n",
       "    <tr>\n",
       "      <th>max</th>\n",
       "      <td>2023-07-27 00:00:00</td>\n",
       "      <td>4875.000000</td>\n",
       "      <td>31.000000</td>\n",
       "      <td>12.000000</td>\n",
       "      <td>2023.000000</td>\n",
       "    </tr>\n",
       "    <tr>\n",
       "      <th>std</th>\n",
       "      <td>NaN</td>\n",
       "      <td>200.632042</td>\n",
       "      <td>8.719892</td>\n",
       "      <td>3.287639</td>\n",
       "      <td>1.708633</td>\n",
       "    </tr>\n",
       "  </tbody>\n",
       "</table>\n",
       "</div>"
      ],
      "text/plain": [
       "                          FECHAVENTA       IMPORTE     dia_venta  \\\n",
       "count                          20537  20537.000000  20537.000000   \n",
       "mean   2020-08-05 08:30:44.086283264     77.900521     16.019867   \n",
       "min              2017-01-02 00:00:00      6.000000      1.000000   \n",
       "25%              2019-04-03 00:00:00     15.000000      8.000000   \n",
       "50%              2020-10-14 00:00:00     35.000000     16.000000   \n",
       "75%              2022-01-06 00:00:00     65.000000     24.000000   \n",
       "max              2023-07-27 00:00:00   4875.000000     31.000000   \n",
       "std                              NaN    200.632042      8.719892   \n",
       "\n",
       "          mes_venta    anio_venta  \n",
       "count  20537.000000  20537.000000  \n",
       "mean       6.578176   2020.090081  \n",
       "min        1.000000   2017.000000  \n",
       "25%        4.000000   2019.000000  \n",
       "50%        7.000000   2020.000000  \n",
       "75%        9.000000   2022.000000  \n",
       "max       12.000000   2023.000000  \n",
       "std        3.287639      1.708633  "
      ]
     },
     "execution_count": 8,
     "metadata": {},
     "output_type": "execute_result"
    }
   ],
   "source": [
    "df_ventas_csv.describe()"
   ]
  },
  {
   "cell_type": "code",
   "execution_count": 9,
   "id": "9628eda6-ac3c-4e50-bec2-56113c842959",
   "metadata": {},
   "outputs": [
    {
     "data": {
      "text/html": [
       "<div>\n",
       "<style scoped>\n",
       "    .dataframe tbody tr th:only-of-type {\n",
       "        vertical-align: middle;\n",
       "    }\n",
       "\n",
       "    .dataframe tbody tr th {\n",
       "        vertical-align: top;\n",
       "    }\n",
       "\n",
       "    .dataframe thead th {\n",
       "        text-align: right;\n",
       "    }\n",
       "</style>\n",
       "<table border=\"1\" class=\"dataframe\">\n",
       "  <thead>\n",
       "    <tr style=\"text-align: right;\">\n",
       "      <th></th>\n",
       "      <th>ID</th>\n",
       "      <th>PRODUCTOCOMPRADO</th>\n",
       "      <th>CANALVENTA</th>\n",
       "    </tr>\n",
       "  </thead>\n",
       "  <tbody>\n",
       "    <tr>\n",
       "      <th>count</th>\n",
       "      <td>20537</td>\n",
       "      <td>20537</td>\n",
       "      <td>20537</td>\n",
       "    </tr>\n",
       "    <tr>\n",
       "      <th>unique</th>\n",
       "      <td>9512</td>\n",
       "      <td>3</td>\n",
       "      <td>2</td>\n",
       "    </tr>\n",
       "    <tr>\n",
       "      <th>top</th>\n",
       "      <td>8125558</td>\n",
       "      <td>VP Informe</td>\n",
       "      <td>WEB</td>\n",
       "    </tr>\n",
       "    <tr>\n",
       "      <th>freq</th>\n",
       "      <td>173</td>\n",
       "      <td>18020</td>\n",
       "      <td>18478</td>\n",
       "    </tr>\n",
       "  </tbody>\n",
       "</table>\n",
       "</div>"
      ],
      "text/plain": [
       "             ID PRODUCTOCOMPRADO CANALVENTA\n",
       "count     20537            20537      20537\n",
       "unique     9512                3          2\n",
       "top     8125558       VP Informe        WEB\n",
       "freq        173            18020      18478"
      ]
     },
     "execution_count": 9,
     "metadata": {},
     "output_type": "execute_result"
    }
   ],
   "source": [
    "df_ventas_csv.select_dtypes(include='object').describe()"
   ]
  },
  {
   "cell_type": "code",
   "execution_count": 10,
   "id": "f3192b65-644c-4df3-82dd-66c9bb5a1b80",
   "metadata": {},
   "outputs": [
    {
     "name": "stdout",
     "output_type": "stream",
     "text": [
      "['VP Informe' 'Plan' 'Bono']\n"
     ]
    }
   ],
   "source": [
    "print(df_ventas_csv.PRODUCTOCOMPRADO.unique())"
   ]
  },
  {
   "cell_type": "code",
   "execution_count": 11,
   "id": "47ef10ad-cf8d-4105-a307-3a5c6ba266ca",
   "metadata": {},
   "outputs": [
    {
     "name": "stdout",
     "output_type": "stream",
     "text": [
      "['WEB' 'CALLCENTER']\n"
     ]
    }
   ],
   "source": [
    "print(df_ventas_csv.CANALVENTA.unique())"
   ]
  },
  {
   "cell_type": "markdown",
   "id": "c44a3dc0-effa-4ecb-b9f5-84c179fa7a1b",
   "metadata": {},
   "source": [
    "Búsqueda de Nulos"
   ]
  },
  {
   "cell_type": "code",
   "execution_count": 12,
   "id": "e9df4e4b-d174-4760-80d9-f96482d237a4",
   "metadata": {},
   "outputs": [
    {
     "data": {
      "text/plain": [
       "ID                  0\n",
       "FECHAVENTA          0\n",
       "PRODUCTOCOMPRADO    0\n",
       "CANALVENTA          0\n",
       "IMPORTE             0\n",
       "dia_venta           0\n",
       "mes_venta           0\n",
       "anio_venta          0\n",
       "dtype: int64"
      ]
     },
     "execution_count": 12,
     "metadata": {},
     "output_type": "execute_result"
    }
   ],
   "source": [
    "df_ventas_csv.isna().sum()"
   ]
  },
  {
   "cell_type": "markdown",
   "id": "efa1f8f8-af5d-4693-a6d4-60c36fc3ebd0",
   "metadata": {},
   "source": [
    "No hay nulos"
   ]
  },
  {
   "cell_type": "markdown",
   "id": "e0cbecd4-9974-4d86-aba9-22610e7f2ee5",
   "metadata": {},
   "source": [
    "### Análisis estadístico básico"
   ]
  },
  {
   "cell_type": "markdown",
   "id": "be09afd5-e1b0-49f5-b875-1a72220db24c",
   "metadata": {},
   "source": [
    "**PRODUCTOCOMPRADO**"
   ]
  },
  {
   "cell_type": "code",
   "execution_count": 13,
   "id": "f113bcd5-995d-4a5f-ae9b-11e9074e0adc",
   "metadata": {},
   "outputs": [
    {
     "data": {
      "image/png": "[encoded data removed]",
      "text/plain": [
       "<Figure size 640x480 with 1 Axes>"
      ]
     },
     "metadata": {},
     "output_type": "display_data"
    }
   ],
   "source": [
    "df_ventas_csv.PRODUCTOCOMPRADO.value_counts().plot(kind=\"bar\");"
   ]
  },
  {
   "cell_type": "markdown",
   "id": "2deb24f4-56f7-4863-9e35-e2202f62d9f2",
   "metadata": {},
   "source": [
    "- Se observa que el producto más vendido es, con diferencia, el **informe puntual**. Asumimos que los **bonos** y **planes** son más caros (ahora lo analizaremos) y por eso se venden menos, aunque deben representar a clientes más fieles. Aunque también puede suceder que tengamos clientes que gastan mucho en informes puntuales y que sean igual de fieles que los compradores de planes o bonos."
   ]
  },
  {
   "cell_type": "markdown",
   "id": "238beb36-46ed-4326-bd16-c2ba7dc9b257",
   "metadata": {},
   "source": [
    "**IMPORTE**"
   ]
  },
  {
   "cell_type": "code",
   "execution_count": 14,
   "id": "84852e27-28bf-455d-88d7-0e6f39760024",
   "metadata": {},
   "outputs": [
    {
     "data": {
      "image/png": "[encoded data removed]",
      "text/plain": [
       "<Figure size 640x480 with 1 Axes>"
      ]
     },
     "metadata": {},
     "output_type": "display_data"
    }
   ],
   "source": [
    "df_ventas_csv[\"IMPORTE\"].plot(kind=\"density\", xlim=(df_ventas_csv[\"IMPORTE\"].min(),df_ventas_csv[\"IMPORTE\"].max()));"
   ]
  },
  {
   "cell_type": "code",
   "execution_count": 15,
   "id": "bdb72176-3b48-4306-ab5f-cac8368ffae6",
   "metadata": {},
   "outputs": [
    {
     "data": {
      "text/plain": [
       "count    20537.000000\n",
       "mean        77.900521\n",
       "std        200.632042\n",
       "min          6.000000\n",
       "25%         15.000000\n",
       "50%         35.000000\n",
       "75%         65.000000\n",
       "90%        150.000000\n",
       "95%        300.000000\n",
       "99%       1000.000000\n",
       "max       4875.000000\n",
       "Name: IMPORTE, dtype: float64"
      ]
     },
     "execution_count": 15,
     "metadata": {},
     "output_type": "execute_result"
    }
   ],
   "source": [
    "df_ventas_csv[\"IMPORTE\"].describe(percentiles=[.25, .5, .75, .90, .95, .99])"
   ]
  },
  {
   "cell_type": "markdown",
   "id": "547c0dab-3f19-4ac5-bcfe-cd55722d5128",
   "metadata": {},
   "source": [
    "- El 90% de las ventas está por debajo de 150 pesos y la mitadm, por debajo de 35 pesos\n",
    "- La mayor parte de las compras son de bajo importe"
   ]
  },
  {
   "cell_type": "markdown",
   "id": "213905ef-7384-4bf8-b273-5d8129f748c8",
   "metadata": {},
   "source": [
    "**Importe por producto**"
   ]
  },
  {
   "cell_type": "markdown",
   "id": "028b933b-5adf-4a7a-b3f7-44ceacda06d7",
   "metadata": {},
   "source": [
    "**VP Informe**"
   ]
  },
  {
   "cell_type": "code",
   "execution_count": 16,
   "id": "a665d739-14fb-432c-9d69-fe00ab47e20a",
   "metadata": {},
   "outputs": [
    {
     "data": {
      "text/plain": [
       "count    18020.000000\n",
       "mean        33.923585\n",
       "std         19.514838\n",
       "min          6.000000\n",
       "25%         15.000000\n",
       "50%         35.000000\n",
       "75%         40.000000\n",
       "max        110.000000\n",
       "Name: IMPORTE, dtype: float64"
      ]
     },
     "execution_count": 16,
     "metadata": {},
     "output_type": "execute_result"
    }
   ],
   "source": [
    "df_ipp = df_ventas_csv[df_ventas_csv.PRODUCTOCOMPRADO==\"VP Informe\"][\"IMPORTE\"]\n",
    "df_ipp.describe()"
   ]
  },
  {
   "cell_type": "markdown",
   "id": "c34bc740-4aab-4801-b1d8-86794a8e2f70",
   "metadata": {},
   "source": [
    "- Los informes varían entre 6 y 100 pesos de precio."
   ]
  },
  {
   "cell_type": "code",
   "execution_count": 17,
   "id": "78a73a00-2735-48a5-85aa-85876364491b",
   "metadata": {},
   "outputs": [
    {
     "data": {
      "image/png": "[encoded data removed]",
      "text/plain": [
       "<Figure size 640x480 with 1 Axes>"
      ]
     },
     "metadata": {},
     "output_type": "display_data"
    }
   ],
   "source": [
    "df_ipp.plot(kind=\"density\", xlim=(df_ipp.min(),df_ipp.max()));"
   ]
  },
  {
   "cell_type": "markdown",
   "id": "29fddfd9-326f-4069-bb43-b37a0daca8a8",
   "metadata": {},
   "source": [
    "- El importe de las Ventas Puntuales de informe está sesgado hacia la izquierda. Los compradores tienen tendencia a comprar informes más económicos, aunque se aprecia una distribución multimodal, con varios picos. Puede que haya varios tipos de compradores de VP."
   ]
  },
  {
   "cell_type": "markdown",
   "id": "9afd4aed-f0ca-49a6-9b32-2eece89992d0",
   "metadata": {},
   "source": [
    "**Plan**"
   ]
  },
  {
   "cell_type": "code",
   "execution_count": 18,
   "id": "48db76b8-2b87-4092-887e-0aaf0599a247",
   "metadata": {},
   "outputs": [
    {
     "data": {
      "text/plain": [
       "count    710.000000\n",
       "mean     322.804225\n",
       "std       90.868508\n",
       "min       69.000000\n",
       "25%      252.000000\n",
       "50%      330.000000\n",
       "75%      414.000000\n",
       "max      414.000000\n",
       "Name: IMPORTE, dtype: float64"
      ]
     },
     "execution_count": 18,
     "metadata": {},
     "output_type": "execute_result"
    }
   ],
   "source": [
    "df_ipp = df_ventas_csv[df_ventas_csv.PRODUCTOCOMPRADO==\"Plan\"][\"IMPORTE\"]\n",
    "df_ipp.describe()"
   ]
  },
  {
   "cell_type": "markdown",
   "id": "6be1ee65-b22c-41af-b8a7-91f47d150de9",
   "metadata": {},
   "source": [
    "- Los planes varían entre 69 y 414 pesos"
   ]
  },
  {
   "cell_type": "code",
   "execution_count": 19,
   "id": "9a4b9daa-546f-450c-8450-24afd1517fe3",
   "metadata": {},
   "outputs": [
    {
     "data": {
      "image/png": "[encoded data removed]",
      "text/plain": [
       "<Figure size 640x480 with 1 Axes>"
      ]
     },
     "metadata": {},
     "output_type": "display_data"
    }
   ],
   "source": [
    "df_ipp.plot(kind=\"density\", xlim=(df_ipp.min(),df_ipp.max()));"
   ]
  },
  {
   "cell_type": "markdown",
   "id": "d76ab723-e3ad-4ef6-9e22-0ec33a36b0bc",
   "metadata": {},
   "source": [
    "- La distribución de los importes de venta es claramente multimodal con un pico sobre los 250 y otro en los 400."
   ]
  },
  {
   "cell_type": "markdown",
   "id": "9f0d2798-9ffe-4289-a314-8cdcabc20c21",
   "metadata": {},
   "source": [
    "**Bono**"
   ]
  },
  {
   "cell_type": "code",
   "execution_count": 20,
   "id": "aa4bcd50-88dd-4a65-9e23-8a314cd7d982",
   "metadata": {},
   "outputs": [
    {
     "data": {
      "text/plain": [
       "count    1807.000000\n",
       "mean      420.226342\n",
       "std       539.026418\n",
       "min        14.000000\n",
       "25%       150.000000\n",
       "50%       300.000000\n",
       "75%       500.000000\n",
       "max      4875.000000\n",
       "Name: IMPORTE, dtype: float64"
      ]
     },
     "execution_count": 20,
     "metadata": {},
     "output_type": "execute_result"
    }
   ],
   "source": [
    "df_ipp = df_ventas_csv[df_ventas_csv.PRODUCTOCOMPRADO==\"Bono\"][\"IMPORTE\"]\n",
    "df_ipp.describe()"
   ]
  },
  {
   "cell_type": "markdown",
   "id": "45b3c8c8-070d-47b2-80f8-d257c2ac5e45",
   "metadata": {},
   "source": [
    "- Los precios de los bonos varían mucho, entre 14 pesos y 4875 pesos"
   ]
  },
  {
   "cell_type": "code",
   "execution_count": 21,
   "id": "0d1b7354-d608-4444-9a62-2ecadf03152b",
   "metadata": {},
   "outputs": [
    {
     "data": {
      "image/png": "[encoded data removed]",
      "text/plain": [
       "<Figure size 640x480 with 1 Axes>"
      ]
     },
     "metadata": {},
     "output_type": "display_data"
    }
   ],
   "source": [
    "df_ipp.plot(kind=\"density\", xlim=(df_ipp.min(),df_ipp.max()));"
   ]
  },
  {
   "cell_type": "markdown",
   "id": "fcfbc6a5-0ba5-4a6a-b14f-25ee5caeb666",
   "metadata": {},
   "source": [
    "- Claramente, los compradores tienen tendencia a comprar bonos más enconómicos, aunque vemos algunos picos en bonos de mucho mayor importe (1000, 2000 e incluso por encima de 4000). También podemos tener distintos tipos de comprador de bonos."
   ]
  },
  {
   "cell_type": "markdown",
   "id": "62bc8fef-0d35-4182-8677-2b1f8c261b7a",
   "metadata": {},
   "source": [
    "**Comparativa de la distribución de los importes de venta de los tres productos**"
   ]
  },
  {
   "cell_type": "code",
   "execution_count": 22,
   "id": "1daa4c9f-ab2e-4d2c-86dc-4c5f6a7dc620",
   "metadata": {},
   "outputs": [
    {
     "data": {
      "image/png": "[encoded data removed]",
      "text/plain": [
       "<Figure size 1300x300 with 3 Axes>"
      ]
     },
     "metadata": {},
     "output_type": "display_data"
    }
   ],
   "source": [
    "categories = df_ventas_csv[\"PRODUCTOCOMPRADO\"].unique()\n",
    "\n",
    "fig, axes = plt.subplots(nrows=1, ncols=len(categories), figsize=(13, 3), sharey=False)\n",
    "\n",
    "for ax, category in zip(axes, categories):\n",
    "    subset = df_ventas_csv[df_ventas_csv['PRODUCTOCOMPRADO']==category]\n",
    "    ax.boxplot(subset['IMPORTE'])\n",
    "    ax.set_xlabel(category)\n",
    "    ax.grid(True)"
   ]
  },
  {
   "cell_type": "markdown",
   "id": "f7eec5df-2751-4c3c-8e04-dfd59c704d73",
   "metadata": {},
   "source": [
    "Conclusiones\n",
    "- La frecuencia y los rangos de venta de los productos son **muy distintos**.\n",
    "- El comportamiento de los compradores de **Plan y Bono es más similiar**, salvo por los compradores de Bonos de muy alto precio.\n",
    "- Los diferente tipología de producto hace que el **número de compras por usuario resulte ambiguo**, ya que un usuario que compra un plan de 400 pesos puede realizar sólo un pago, pero sin embargo, ser un cliente muy fiel por importe. **No podemos analizarlo conjuntamente**.\n",
    "- Las distribuciones claramente **multimodales** de VP y Plan sugieren que tal vez hay diferentes grupos de compra en cada uno de ellos."
   ]
  },
  {
   "cell_type": "markdown",
   "id": "42454d35-8801-478d-9de5-414f3dc3b057",
   "metadata": {},
   "source": [
    "**CANALVENTA**"
   ]
  },
  {
   "cell_type": "code",
   "execution_count": 23,
   "id": "5a589c05-a0eb-449a-9376-46313c9c25a8",
   "metadata": {},
   "outputs": [
    {
     "data": {
      "image/png": "[encoded data removed]",
      "text/plain": [
       "<Figure size 640x480 with 1 Axes>"
      ]
     },
     "metadata": {},
     "output_type": "display_data"
    }
   ],
   "source": [
    "df_ventas_csv.CANALVENTA.value_counts().plot(kind=\"bar\");"
   ]
  },
  {
   "cell_type": "markdown",
   "id": "7df419e9-c571-4f7b-9d3e-0059d1fbec4f",
   "metadata": {},
   "source": [
    "Histogramas"
   ]
  },
  {
   "cell_type": "code",
   "execution_count": 24,
   "id": "40ae21ff-5457-42c4-8a7c-1c09ee40cf37",
   "metadata": {},
   "outputs": [
    {
     "data": {
      "image/png": "[encoded data removed]",
      "text/plain": [
       "<Figure size 1200x1000 with 6 Axes>"
      ]
     },
     "metadata": {},
     "output_type": "display_data"
    }
   ],
   "source": [
    "df_ventas_csv.hist(figsize=(12,10), bins=30);"
   ]
  },
  {
   "cell_type": "markdown",
   "id": "cf5e1a4f-fc62-4031-8f0a-aca55a7c5a0c",
   "metadata": {},
   "source": [
    "- Sólo hay datos de ventas hasta julio 23.\n",
    "- Las ventas han ido incrementando con los años\n",
    "- No se aprecia patrón de venta sesgado por día o mes de venta, salvo que el día 31 hay un pico de ventas."
   ]
  },
  {
   "cell_type": "markdown",
   "id": "2998f2c8-d0fa-4241-bc4c-c5b8fa866035",
   "metadata": {},
   "source": [
    "**Análisis de compras por usuario**"
   ]
  },
  {
   "cell_type": "markdown",
   "id": "18d718b9-35cd-47e4-920e-84fe5650b8ea",
   "metadata": {},
   "source": [
    "Tal y como hemos comentado en el análisis de \"Compras por usuario\", los tres grupos de productos tienen una tipología de compra muy diferente y vamos a analizarlos de manera separada."
   ]
  },
  {
   "cell_type": "markdown",
   "id": "dd6e66ec-7d9a-4d19-b7df-e085bf0b9e4f",
   "metadata": {},
   "source": [
    "Contruimos los datos"
   ]
  },
  {
   "cell_type": "code",
   "execution_count": 25,
   "id": "1708f707-000a-4b64-b122-3e6714584016",
   "metadata": {},
   "outputs": [],
   "source": [
    "# Creamos el agregado por usuario y producto comprado\n",
    "df_compras_usuario_producto_agg = df_ventas_csv.groupby([\"ID\",\"PRODUCTOCOMPRADO\"]).agg(\n",
    "        numero_compras=('ID', 'count'),\n",
    "        total_importe_compra=('IMPORTE', 'sum')\n",
    "    ).reset_index()\n",
    "\n",
    "# Extraemos los tipos de producto\n",
    "categories = df_compras_usuario_producto_agg[\"PRODUCTOCOMPRADO\"].unique()"
   ]
  },
  {
   "cell_type": "code",
   "execution_count": 26,
   "id": "0e0c7e02-fac9-42d1-9c04-f73accff2579",
   "metadata": {},
   "outputs": [],
   "source": [
    "def plot_dist_compras_usuario(df, kpi, color):\n",
    "\n",
    "    fig, axes = plt.subplots(nrows=1, ncols=len(categories), figsize=(9, 3), sharey=False)\n",
    "    \n",
    "    for i, ax in enumerate(axes):\n",
    "        ax.hist(df[df[\"PRODUCTOCOMPRADO\"]==categories[i]]\n",
    "                [kpi], bins=30, color=color)\n",
    "        ax.set_xlabel(categories[i])\n",
    "        ax.grid(True)\n",
    "    \n",
    "    fig.suptitle(kpi);\n",
    "    plt.tight_layout(rect=[0, 0, 1, 0.95])"
   ]
  },
  {
   "cell_type": "markdown",
   "id": "e4c83c0a-6444-44e8-b3d4-5261fd70b4b2",
   "metadata": {},
   "source": [
    "**Distribución de los datos por Número de Compras**"
   ]
  },
  {
   "cell_type": "code",
   "execution_count": 27,
   "id": "466bdda7-1122-44a0-a316-cc9352600deb",
   "metadata": {},
   "outputs": [
    {
     "data": {
      "image/png": "[encoded data removed]",
      "text/plain": [
       "<Figure size 900x300 with 3 Axes>"
      ]
     },
     "metadata": {},
     "output_type": "display_data"
    }
   ],
   "source": [
    "plot_dist_compras_usuario(df_compras_usuario_producto_agg, \"numero_compras\", \"green\")"
   ]
  },
  {
   "cell_type": "markdown",
   "id": "656383b2-24dc-4006-9885-02fabd1527cf",
   "metadata": {},
   "source": [
    "- La distribución por número de compras es **similar** en los tres productos ya que se inclina hacia el 1.\n",
    "- Sin embargo, parece que haya  **compras más repetitivas en los bonos y planes (cola por la derecha)**, implicando mayor grado de fidelización en estos productos."
   ]
  },
  {
   "cell_type": "markdown",
   "id": "692d8680-0516-471e-a727-3a3ca40f6d38",
   "metadata": {},
   "source": [
    "Imprimimos el histograma de los datos, para verificar las impresiones visuales"
   ]
  },
  {
   "cell_type": "code",
   "execution_count": 28,
   "id": "2cf637cf-5343-416a-8f45-396f8814b5e1",
   "metadata": {},
   "outputs": [],
   "source": [
    "def plot_hist(df, kpi):\n",
    "    df_hist = pd.DataFrame(columns=([\"min\",\"25%\", \"50%\", \"75%\", \"90%\", \"95%\", \"99%\", \"max\"]))\n",
    "\n",
    "    for category in categories:\n",
    "        p = df[df[\"PRODUCTOCOMPRADO\"]==category][kpi]\\\n",
    "            .describe(percentiles=[.25, .5, .75, .90, .95, .99])\n",
    "        df_hist.loc[category] = (p[\"min\"], p[\"25%\"], p[\"50%\"], p[\"75%\"], p[\"90%\"], p[\"95%\"], p[\"99%\"], p[\"max\"])\n",
    "\n",
    "    return df_hist"
   ]
  },
  {
   "cell_type": "code",
   "execution_count": 29,
   "id": "bcb33439-7326-4873-9fea-1baac2d33ee1",
   "metadata": {},
   "outputs": [
    {
     "data": {
      "text/html": [
       "<div>\n",
       "<style scoped>\n",
       "    .dataframe tbody tr th:only-of-type {\n",
       "        vertical-align: middle;\n",
       "    }\n",
       "\n",
       "    .dataframe tbody tr th {\n",
       "        vertical-align: top;\n",
       "    }\n",
       "\n",
       "    .dataframe thead th {\n",
       "        text-align: right;\n",
       "    }\n",
       "</style>\n",
       "<table border=\"1\" class=\"dataframe\">\n",
       "  <thead>\n",
       "    <tr style=\"text-align: right;\">\n",
       "      <th></th>\n",
       "      <th>min</th>\n",
       "      <th>25%</th>\n",
       "      <th>50%</th>\n",
       "      <th>75%</th>\n",
       "      <th>90%</th>\n",
       "      <th>95%</th>\n",
       "      <th>99%</th>\n",
       "      <th>max</th>\n",
       "    </tr>\n",
       "  </thead>\n",
       "  <tbody>\n",
       "    <tr>\n",
       "      <th>VP Informe</th>\n",
       "      <td>1.0</td>\n",
       "      <td>1.0</td>\n",
       "      <td>1.0</td>\n",
       "      <td>2.0</td>\n",
       "      <td>4.0</td>\n",
       "      <td>6.0</td>\n",
       "      <td>14.0</td>\n",
       "      <td>173.0</td>\n",
       "    </tr>\n",
       "    <tr>\n",
       "      <th>Bono</th>\n",
       "      <td>1.0</td>\n",
       "      <td>1.0</td>\n",
       "      <td>1.0</td>\n",
       "      <td>2.0</td>\n",
       "      <td>4.0</td>\n",
       "      <td>7.0</td>\n",
       "      <td>11.0</td>\n",
       "      <td>28.0</td>\n",
       "    </tr>\n",
       "    <tr>\n",
       "      <th>Plan</th>\n",
       "      <td>1.0</td>\n",
       "      <td>1.0</td>\n",
       "      <td>1.0</td>\n",
       "      <td>2.0</td>\n",
       "      <td>4.0</td>\n",
       "      <td>6.0</td>\n",
       "      <td>11.0</td>\n",
       "      <td>30.0</td>\n",
       "    </tr>\n",
       "  </tbody>\n",
       "</table>\n",
       "</div>"
      ],
      "text/plain": [
       "            min  25%  50%  75%  90%  95%   99%    max\n",
       "VP Informe  1.0  1.0  1.0  2.0  4.0  6.0  14.0  173.0\n",
       "Bono        1.0  1.0  1.0  2.0  4.0  7.0  11.0   28.0\n",
       "Plan        1.0  1.0  1.0  2.0  4.0  6.0  11.0   30.0"
      ]
     },
     "execution_count": 29,
     "metadata": {},
     "output_type": "execute_result"
    }
   ],
   "source": [
    "plot_hist(df_compras_usuario_producto_agg, \"numero_compras\")"
   ]
  },
  {
   "cell_type": "markdown",
   "id": "3dbb4cfe-ad9a-463a-9c72-ed4a92643829",
   "metadata": {},
   "source": [
    "- Nos estaba engañando la escala de los gráficos. La distribución del número de compras es prácticamente igual en los tres productos, salvo por los máximos en VP Informe"
   ]
  },
  {
   "cell_type": "markdown",
   "id": "54f9bee9-33c4-4bb8-bbdd-e70c66a541a3",
   "metadata": {},
   "source": [
    "**Distribución de los datos por Total Importe de Compra**"
   ]
  },
  {
   "cell_type": "code",
   "execution_count": 30,
   "id": "52e4e49f-42b0-4907-baf4-ee71aca9fea6",
   "metadata": {},
   "outputs": [
    {
     "data": {
      "image/png": "[encoded data removed]",
      "text/plain": [
       "<Figure size 900x300 with 3 Axes>"
      ]
     },
     "metadata": {},
     "output_type": "display_data"
    }
   ],
   "source": [
    "plot_dist_compras_usuario(df_compras_usuario_producto_agg, \"total_importe_compra\", \"orange\")"
   ]
  },
  {
   "cell_type": "markdown",
   "id": "226bdbf9-7697-43a3-9ae0-f9763fb4b322",
   "metadata": {},
   "source": [
    "- De nuevo, los tres productos tienen a la mayoría de las compras en importes bajos.\n",
    "- Sin embargo, vemos de nuevo en bonos y planes algo de tendencia a comprar con importes superiores dentro de cada categoría."
   ]
  },
  {
   "cell_type": "markdown",
   "id": "1b34cafa-8141-4555-aadf-be5435be39cc",
   "metadata": {},
   "source": [
    "Imprimimos el histograma de los datos, para verificar las impresiones visuales"
   ]
  },
  {
   "cell_type": "code",
   "execution_count": 31,
   "id": "2279e8c6-668d-4b57-8e8a-5d2011fae85b",
   "metadata": {},
   "outputs": [
    {
     "data": {
      "text/html": [
       "<div>\n",
       "<style scoped>\n",
       "    .dataframe tbody tr th:only-of-type {\n",
       "        vertical-align: middle;\n",
       "    }\n",
       "\n",
       "    .dataframe tbody tr th {\n",
       "        vertical-align: top;\n",
       "    }\n",
       "\n",
       "    .dataframe thead th {\n",
       "        text-align: right;\n",
       "    }\n",
       "</style>\n",
       "<table border=\"1\" class=\"dataframe\">\n",
       "  <thead>\n",
       "    <tr style=\"text-align: right;\">\n",
       "      <th></th>\n",
       "      <th>min</th>\n",
       "      <th>25%</th>\n",
       "      <th>50%</th>\n",
       "      <th>75%</th>\n",
       "      <th>90%</th>\n",
       "      <th>95%</th>\n",
       "      <th>99%</th>\n",
       "      <th>max</th>\n",
       "    </tr>\n",
       "  </thead>\n",
       "  <tbody>\n",
       "    <tr>\n",
       "      <th>VP Informe</th>\n",
       "      <td>6.0</td>\n",
       "      <td>15.0</td>\n",
       "      <td>35.0</td>\n",
       "      <td>70.0</td>\n",
       "      <td>140.0</td>\n",
       "      <td>220.0</td>\n",
       "      <td>530.60</td>\n",
       "      <td>6865.0</td>\n",
       "    </tr>\n",
       "    <tr>\n",
       "      <th>Bono</th>\n",
       "      <td>14.0</td>\n",
       "      <td>150.0</td>\n",
       "      <td>300.0</td>\n",
       "      <td>800.0</td>\n",
       "      <td>2000.0</td>\n",
       "      <td>3450.0</td>\n",
       "      <td>8400.00</td>\n",
       "      <td>25200.0</td>\n",
       "    </tr>\n",
       "    <tr>\n",
       "      <th>Plan</th>\n",
       "      <td>69.0</td>\n",
       "      <td>252.0</td>\n",
       "      <td>414.0</td>\n",
       "      <td>582.0</td>\n",
       "      <td>1455.0</td>\n",
       "      <td>1885.5</td>\n",
       "      <td>4130.25</td>\n",
       "      <td>12420.0</td>\n",
       "    </tr>\n",
       "  </tbody>\n",
       "</table>\n",
       "</div>"
      ],
      "text/plain": [
       "             min    25%    50%    75%     90%     95%      99%      max\n",
       "VP Informe   6.0   15.0   35.0   70.0   140.0   220.0   530.60   6865.0\n",
       "Bono        14.0  150.0  300.0  800.0  2000.0  3450.0  8400.00  25200.0\n",
       "Plan        69.0  252.0  414.0  582.0  1455.0  1885.5  4130.25  12420.0"
      ]
     },
     "execution_count": 31,
     "metadata": {},
     "output_type": "execute_result"
    }
   ],
   "source": [
    "plot_hist(df_compras_usuario_producto_agg, \"total_importe_compra\")"
   ]
  },
  {
   "cell_type": "markdown",
   "id": "2c1590eb-5c29-4f6b-8604-6be544452168",
   "metadata": {},
   "source": [
    "- Podemos verificar parcialmente lo visualizado. En los VPs, el mínimo (6) y el 50% (35) son 5 veces más; sin embargo, en Bono, el mínimo (14) y el 50% (300) está a 20 veces. En Planes no pasa lo mismo, el 50% (414) es tan sólo 6 veces más que el mínimo (69)"
   ]
  },
  {
   "cell_type": "markdown",
   "id": "a12ef33a-c9f8-466f-967f-5df543be95c8",
   "metadata": {},
   "source": [
    "### Análisis de atípicos"
   ]
  },
  {
   "cell_type": "code",
   "execution_count": 32,
   "id": "a37ca578-042a-4e24-9994-58d7b419636e",
   "metadata": {},
   "outputs": [],
   "source": [
    "def get_outliers_metadata(df):\n",
    "    '''\n",
    "    Devuelve un análisis de outliers para todas las columnas numéricas del df\n",
    "    '''\n",
    "\n",
    "    outlier_metadata = pd.DataFrame(columns=[\"Q1\", \"Q3\", \"IQR\", \"upper_bound\", \"total_outliers\", \"perc_outliers\"])\n",
    "\n",
    "    #subset = df[df[\"PRODUCTOCOMPRADO\"]==category]\n",
    "    \n",
    "    for columna in df.select_dtypes(include=['number']).columns:\n",
    "    \n",
    "        # Cálculo de cuartiles y límite de outliers\n",
    "        Q1 = df[columna].quantile(0.25)\n",
    "        Q3 = df[columna].quantile(0.75)\n",
    "        IQR = Q3 - Q1\n",
    "        upper_bound = Q3 + (1.5 * IQR)\n",
    "    \n",
    "        # Obtención de los atípicos\n",
    "        total_outliers = df[df[columna]>upper_bound].shape[0]\n",
    "        perc_outliers = round(total_outliers/df.shape[0]*100,1)\n",
    "    \n",
    "        outlier_metadata.loc[columna] = (Q1, Q3, IQR, upper_bound, total_outliers, perc_outliers)\n",
    "\n",
    "    return outlier_metadata"
   ]
  },
  {
   "cell_type": "markdown",
   "id": "15ee16fd-4c5a-4e9e-88c6-206b63c49ce9",
   "metadata": {},
   "source": [
    "**VP Informe**"
   ]
  },
  {
   "cell_type": "code",
   "execution_count": 33,
   "id": "eff9ca3e-2d3a-4daa-bd53-037095daebac",
   "metadata": {},
   "outputs": [
    {
     "data": {
      "text/html": [
       "<div>\n",
       "<style scoped>\n",
       "    .dataframe tbody tr th:only-of-type {\n",
       "        vertical-align: middle;\n",
       "    }\n",
       "\n",
       "    .dataframe tbody tr th {\n",
       "        vertical-align: top;\n",
       "    }\n",
       "\n",
       "    .dataframe thead th {\n",
       "        text-align: right;\n",
       "    }\n",
       "</style>\n",
       "<table border=\"1\" class=\"dataframe\">\n",
       "  <thead>\n",
       "    <tr style=\"text-align: right;\">\n",
       "      <th></th>\n",
       "      <th>Q1</th>\n",
       "      <th>Q3</th>\n",
       "      <th>IQR</th>\n",
       "      <th>upper_bound</th>\n",
       "      <th>total_outliers</th>\n",
       "      <th>perc_outliers</th>\n",
       "    </tr>\n",
       "  </thead>\n",
       "  <tbody>\n",
       "    <tr>\n",
       "      <th>numero_compras</th>\n",
       "      <td>1.0</td>\n",
       "      <td>2.0</td>\n",
       "      <td>1.0</td>\n",
       "      <td>3.5</td>\n",
       "      <td>981.0</td>\n",
       "      <td>11.2</td>\n",
       "    </tr>\n",
       "    <tr>\n",
       "      <th>total_importe_compra</th>\n",
       "      <td>15.0</td>\n",
       "      <td>70.0</td>\n",
       "      <td>55.0</td>\n",
       "      <td>152.5</td>\n",
       "      <td>755.0</td>\n",
       "      <td>8.6</td>\n",
       "    </tr>\n",
       "  </tbody>\n",
       "</table>\n",
       "</div>"
      ],
      "text/plain": [
       "                        Q1    Q3   IQR  upper_bound  total_outliers  \\\n",
       "numero_compras         1.0   2.0   1.0          3.5           981.0   \n",
       "total_importe_compra  15.0  70.0  55.0        152.5           755.0   \n",
       "\n",
       "                      perc_outliers  \n",
       "numero_compras                 11.2  \n",
       "total_importe_compra            8.6  "
      ]
     },
     "execution_count": 33,
     "metadata": {},
     "output_type": "execute_result"
    }
   ],
   "source": [
    "producto = df_compras_usuario_producto_agg[df_compras_usuario_producto_agg[\"PRODUCTOCOMPRADO\"]==\"VP Informe\"]\n",
    "\n",
    "outliers = get_outliers_metadata(producto)\n",
    "\n",
    "outliers"
   ]
  },
  {
   "cell_type": "markdown",
   "id": "34884f9f-b012-4888-b30e-ccb30cc6ab1f",
   "metadata": {},
   "source": [
    "- Según la distribución de compras, los usuarios que han comprado más de 3 veces son atípicos. Y si han gastado más de 152.5 pesos también. \n",
    "- El porcentaje de atípicos ronda el 10%"
   ]
  },
  {
   "cell_type": "markdown",
   "id": "8ccf7a66-a035-40a1-8488-7332fb759425",
   "metadata": {},
   "source": [
    "**Plan**"
   ]
  },
  {
   "cell_type": "code",
   "execution_count": 34,
   "id": "6be86d4e-f6b7-44ca-9ed8-8983a44f3b26",
   "metadata": {},
   "outputs": [
    {
     "data": {
      "text/html": [
       "<div>\n",
       "<style scoped>\n",
       "    .dataframe tbody tr th:only-of-type {\n",
       "        vertical-align: middle;\n",
       "    }\n",
       "\n",
       "    .dataframe tbody tr th {\n",
       "        vertical-align: top;\n",
       "    }\n",
       "\n",
       "    .dataframe thead th {\n",
       "        text-align: right;\n",
       "    }\n",
       "</style>\n",
       "<table border=\"1\" class=\"dataframe\">\n",
       "  <thead>\n",
       "    <tr style=\"text-align: right;\">\n",
       "      <th></th>\n",
       "      <th>Q1</th>\n",
       "      <th>Q3</th>\n",
       "      <th>IQR</th>\n",
       "      <th>upper_bound</th>\n",
       "      <th>total_outliers</th>\n",
       "      <th>perc_outliers</th>\n",
       "    </tr>\n",
       "  </thead>\n",
       "  <tbody>\n",
       "    <tr>\n",
       "      <th>numero_compras</th>\n",
       "      <td>1.0</td>\n",
       "      <td>2.0</td>\n",
       "      <td>1.0</td>\n",
       "      <td>3.5</td>\n",
       "      <td>46.0</td>\n",
       "      <td>12.6</td>\n",
       "    </tr>\n",
       "    <tr>\n",
       "      <th>total_importe_compra</th>\n",
       "      <td>252.0</td>\n",
       "      <td>582.0</td>\n",
       "      <td>330.0</td>\n",
       "      <td>1077.0</td>\n",
       "      <td>53.0</td>\n",
       "      <td>14.5</td>\n",
       "    </tr>\n",
       "  </tbody>\n",
       "</table>\n",
       "</div>"
      ],
      "text/plain": [
       "                         Q1     Q3    IQR  upper_bound  total_outliers  \\\n",
       "numero_compras          1.0    2.0    1.0          3.5            46.0   \n",
       "total_importe_compra  252.0  582.0  330.0       1077.0            53.0   \n",
       "\n",
       "                      perc_outliers  \n",
       "numero_compras                 12.6  \n",
       "total_importe_compra           14.5  "
      ]
     },
     "execution_count": 34,
     "metadata": {},
     "output_type": "execute_result"
    }
   ],
   "source": [
    "producto = df_compras_usuario_producto_agg[df_compras_usuario_producto_agg[\"PRODUCTOCOMPRADO\"]==\"Plan\"]\n",
    "\n",
    "outliers = get_outliers_metadata(producto)\n",
    "\n",
    "outliers"
   ]
  },
  {
   "cell_type": "markdown",
   "id": "b81f1c92-9edd-42a0-b4e6-e5eef6c8c0c6",
   "metadata": {},
   "source": [
    "- Según la distribución de compras, los usuarios que han comprado más de 3 veces son atípicos (igual que en los VPs). Y si han gastado más de 1077 pesos también.\n",
    "- El porcentaje de atípicos ronda el 13%"
   ]
  },
  {
   "cell_type": "markdown",
   "id": "e244a6b9-9298-42d0-b3ba-b262a6811eae",
   "metadata": {},
   "source": [
    "**Bonos**"
   ]
  },
  {
   "cell_type": "code",
   "execution_count": 35,
   "id": "205def9c-e5a2-4e53-b94e-e5ee1bfae1db",
   "metadata": {},
   "outputs": [
    {
     "data": {
      "text/html": [
       "<div>\n",
       "<style scoped>\n",
       "    .dataframe tbody tr th:only-of-type {\n",
       "        vertical-align: middle;\n",
       "    }\n",
       "\n",
       "    .dataframe tbody tr th {\n",
       "        vertical-align: top;\n",
       "    }\n",
       "\n",
       "    .dataframe thead th {\n",
       "        text-align: right;\n",
       "    }\n",
       "</style>\n",
       "<table border=\"1\" class=\"dataframe\">\n",
       "  <thead>\n",
       "    <tr style=\"text-align: right;\">\n",
       "      <th></th>\n",
       "      <th>Q1</th>\n",
       "      <th>Q3</th>\n",
       "      <th>IQR</th>\n",
       "      <th>upper_bound</th>\n",
       "      <th>total_outliers</th>\n",
       "      <th>perc_outliers</th>\n",
       "    </tr>\n",
       "  </thead>\n",
       "  <tbody>\n",
       "    <tr>\n",
       "      <th>numero_compras</th>\n",
       "      <td>1.0</td>\n",
       "      <td>2.0</td>\n",
       "      <td>1.0</td>\n",
       "      <td>3.5</td>\n",
       "      <td>123.0</td>\n",
       "      <td>14.3</td>\n",
       "    </tr>\n",
       "    <tr>\n",
       "      <th>total_importe_compra</th>\n",
       "      <td>150.0</td>\n",
       "      <td>800.0</td>\n",
       "      <td>650.0</td>\n",
       "      <td>1775.0</td>\n",
       "      <td>99.0</td>\n",
       "      <td>11.5</td>\n",
       "    </tr>\n",
       "  </tbody>\n",
       "</table>\n",
       "</div>"
      ],
      "text/plain": [
       "                         Q1     Q3    IQR  upper_bound  total_outliers  \\\n",
       "numero_compras          1.0    2.0    1.0          3.5           123.0   \n",
       "total_importe_compra  150.0  800.0  650.0       1775.0            99.0   \n",
       "\n",
       "                      perc_outliers  \n",
       "numero_compras                 14.3  \n",
       "total_importe_compra           11.5  "
      ]
     },
     "execution_count": 35,
     "metadata": {},
     "output_type": "execute_result"
    }
   ],
   "source": [
    "producto = df_compras_usuario_producto_agg[df_compras_usuario_producto_agg[\"PRODUCTOCOMPRADO\"]==\"Bono\"]\n",
    "\n",
    "outliers = get_outliers_metadata(producto)\n",
    "\n",
    "outliers"
   ]
  },
  {
   "cell_type": "markdown",
   "id": "4eaf9bea-7ec1-41b3-b6fb-c864050cd12b",
   "metadata": {},
   "source": [
    "- De nuevo, los usuarios que han comprado más de 3 veces son atípicos. Este patrón se repite en los tres tipos de productos. El comportamiento es muy homogeneo.\n",
    "- En el límite de gasto para ser atípico, los bonos son muy semejantes a los Planes.\n",
    "- El porcentaje de atípicos es muy similar en los tres productos."
   ]
  },
  {
   "cell_type": "markdown",
   "id": "327608f7-27ba-4204-90c4-f64a216ddbf1",
   "metadata": {},
   "source": [
    "**Análisis visual de atípicos**"
   ]
  },
  {
   "cell_type": "code",
   "execution_count": 36,
   "id": "3d694117-bb48-4b3d-b746-f01bd781e870",
   "metadata": {},
   "outputs": [],
   "source": [
    "def print_outlier_visual_analysis(df, kpi):\n",
    "\n",
    "    categories = df[\"PRODUCTOCOMPRADO\"].unique()\n",
    "    \n",
    "    fig, axes = plt.subplots(nrows=1, ncols=len(categories), figsize=(13, 3), sharey=False)\n",
    "    \n",
    "    for ax, category in zip(axes, categories):\n",
    "        subset = df[df['PRODUCTOCOMPRADO']==category]\n",
    "        ax.boxplot(subset[kpi])\n",
    "        ax.set_xlabel(category)\n",
    "        ax.grid(True)\n",
    "    \n",
    "    fig.suptitle(kpi)"
   ]
  },
  {
   "cell_type": "code",
   "execution_count": 37,
   "id": "bd516137-a545-476d-8d1b-14b4d6fd2dc5",
   "metadata": {},
   "outputs": [
    {
     "data": {
      "image/png": "[encoded data removed]",
      "text/plain": [
       "<Figure size 1300x300 with 3 Axes>"
      ]
     },
     "metadata": {},
     "output_type": "display_data"
    }
   ],
   "source": [
    "print_outlier_visual_analysis(df_compras_usuario_producto_agg, 'numero_compras')"
   ]
  },
  {
   "cell_type": "markdown",
   "id": "64661d04-6529-4bdb-9d58-96d5f77d928c",
   "metadata": {},
   "source": [
    "Por número de compras, ya sabíamos que la mayoría de los compradores repiten poco. Sin embargo, los repetidores en los tres productos no parecen datos erroneos. "
   ]
  },
  {
   "cell_type": "code",
   "execution_count": 38,
   "id": "31a02f17-399e-47f9-b8a5-988647bdaf1f",
   "metadata": {},
   "outputs": [
    {
     "data": {
      "image/png": "[encoded data removed]",
      "text/plain": [
       "<Figure size 1300x300 with 3 Axes>"
      ]
     },
     "metadata": {},
     "output_type": "display_data"
    }
   ],
   "source": [
    "print_outlier_visual_analysis(df_compras_usuario_producto_agg, 'total_importe_compra')"
   ]
  },
  {
   "cell_type": "markdown",
   "id": "c18b0c0f-b92f-430c-9a67-33886f318d7a",
   "metadata": {},
   "source": [
    "- Para VPs, se ven datos muy alejados. Podría ser sospecho. Aunque al ser varios compradores, no apunta a dato erroneo.\n",
    "- Para Planes pasa lo mismo, pero no parecen varios datos. Lo revisaremos.\n",
    "- En Bono no se aprecia un patrón de datos erroneos."
   ]
  },
  {
   "cell_type": "markdown",
   "id": "5e8f9217-1fb1-4dc4-b191-e2bf64a1751a",
   "metadata": {},
   "source": [
    "Revisión de atípicos de Planes"
   ]
  },
  {
   "cell_type": "code",
   "execution_count": 39,
   "id": "014fc00c-2a91-4456-b5aa-2d45c03a7f1a",
   "metadata": {},
   "outputs": [
    {
     "data": {
      "text/plain": [
       "2835     4140\n",
       "3074     4263\n",
       "1464     4554\n",
       "578     12420\n",
       "Name: total_importe_compra, dtype: int64"
      ]
     },
     "execution_count": 39,
     "metadata": {},
     "output_type": "execute_result"
    }
   ],
   "source": [
    "df_planes =  df_compras_usuario_producto_agg[df_compras_usuario_producto_agg['PRODUCTOCOMPRADO']==\"Plan\"][\"total_importe_compra\"]\n",
    "\n",
    "#Filtramos para el percetil 99 de atípicos de Planes\n",
    "df_planes_outlier = df_planes[df_planes>4130.25]\n",
    "\n",
    "df_planes_outlier.sort_values()"
   ]
  },
  {
   "cell_type": "markdown",
   "id": "6cb319d7-0ccc-42b1-b38a-4952a71b3704",
   "metadata": {},
   "source": [
    "Hay un único dato especialmente elevado. Habrá que tenerlo presente por si fuera un error de datos"
   ]
  },
  {
   "cell_type": "markdown",
   "id": "7737406c-4cbf-46a9-bd81-a6f0e0c8abe9",
   "metadata": {},
   "source": [
    "## Modelo no supervisado"
   ]
  },
  {
   "cell_type": "markdown",
   "id": "1f75317e-4bea-43d8-ba24-aff2c9e3db57",
   "metadata": {},
   "source": [
    "Como ya hemos determinado en el análisis estadístico, la distribución de compras es muy diferente en los tres tipos de productos. Esto nos ha llevado a realizar un análisis individual de cada tipo de compra. No podemos comparar la fidelidad de un cliente que gasta mucho dinero en un bono que compra una vez, con un ciente que también compra una sola vez, pero que lo hace de un informe puntual.\n",
    "\n",
    "Por este motivo, el cálculo de variables RFM y posterior clusterización, se va a realizar por productos separados."
   ]
  },
  {
   "cell_type": "code",
   "execution_count": 40,
   "id": "768f6927-3e49-4629-8b84-45adb05fb989",
   "metadata": {},
   "outputs": [],
   "source": [
    "producto_análisis = \"VP Informe\""
   ]
  },
  {
   "cell_type": "markdown",
   "id": "df3f5121-6f1a-448b-be23-3eee0fe88c04",
   "metadata": {},
   "source": [
    "### Cálculo de variables RFM"
   ]
  },
  {
   "cell_type": "markdown",
   "id": "b29ffccd-bf1b-4341-8167-a346deabcb6b",
   "metadata": {},
   "source": [
    "Las variables RFM corresponen a los valores:\n",
    "- **Recency**: Cuán reciente fue la última compra del cliente.\n",
    "- **Frecuency**: La frecuencia de compra de un cliente en un periodo determinado.\n",
    "- **Monetary**: El valor monetario de esas compras en el periodo.\n",
    "\n",
    "En nuestro caso de estudio, tenemos datos de ventas de clientes desde 2017 hasta mitad de 2023. De cara a segementar los clientes, vamos a tratar las variables de la siguiente forma:\n",
    "- **Recency**: *número de días desde la última compra realizada*.\n",
    "- **Frecuency**: *número total de compras*.\n",
    "- **Monetary**: *suma de los importes de compra*. "
   ]
  },
  {
   "cell_type": "code",
   "execution_count": 41,
   "id": "4b60eac1-496d-4ee4-8bb8-88c4d4ef2258",
   "metadata": {},
   "outputs": [],
   "source": [
    "# Obtiene los valores de RMF de un df\n",
    "def get_rfm(df):\n",
    "\n",
    "    # Calculamos la última fecha a la que tenemos datos de compras\n",
    "    max_fecha_data = df[\"FECHAVENTA\"].max()\n",
    "\n",
    "    # Calculamos los días desde la última compra de cada compra, para poder calcular el tiempo medio entre compras (frecuencia)\n",
    "    df[\"dias_desde_ultima_compra\"] = df[\"FECHAVENTA\"].map( lambda x: (max_fecha_data - x).days)\n",
    "    \n",
    "    df_rfm = df.groupby(\"ID\").agg(\n",
    "        recency=(\"dias_desde_ultima_compra\", \"min\"),\n",
    "        frequency=(\"ID\",\"count\"),\n",
    "        monetary=(\"IMPORTE\",\"sum\")\n",
    "    )\n",
    "\n",
    "    return df_rfm"
   ]
  },
  {
   "cell_type": "code",
   "execution_count": 81,
   "id": "e46a1805-028c-4c3e-932a-a018255e2583",
   "metadata": {},
   "outputs": [],
   "source": [
    "def print_scatter_subplots_with_highlight(df, features, labels, highlight, regression=False):\n",
    "    '''\n",
    "    Función imprime un scatter de un df, para una lista de duplas de features. Además, puede recibir las etiquetas de los puntos y un cluster a destacar.\n",
    "\n",
    "    Parameters\n",
    "    ----------\n",
    "    df : dataframe \n",
    "        Dataframe de donde se extraen los datos a plotear\n",
    "    features : array de duplas de columnas del df. \n",
    "        Se genera un subplot con un scatter, por cada par de columnas del array. \n",
    "        Ej [(\"monetary\", \"frequency\"),(\"monetary\", \"recency\")] mostraría dos scatters, uno con monetary vs frequency y otro de monetary vs recency.\n",
    "    labels : numpy array de int. \n",
    "        Se utiliza para colorear los puntos, si no se pasa el parámetro highlight.\n",
    "    highlight: int\n",
    "        Si se informa, se colorean de naranja los puntos con esa etiqueta y de azul el resto.\n",
    "    '''\n",
    "    \n",
    "    fig, axes = plt.subplots(nrows=1, ncols=len(features), figsize=(6*len(features),4), sharey=False, squeeze=False)\n",
    "\n",
    "    if highlight!=None:\n",
    "        index_highlight = labels == highlight\n",
    "    else:\n",
    "        index_highlight = np.full(len(df), False, dtype=bool)\n",
    "        \n",
    "    for ax, feature in zip(axes[0], features):\n",
    "\n",
    "        if highlight!=None:\n",
    "            ax.scatter(x=df.loc[~index_highlight,feature[0]], y=df.loc[~index_highlight, feature[1]], marker='o', alpha=.3,c=\"blue\");\n",
    "            ax.scatter(x=df.loc[index_highlight,feature[0]], y=df.loc[index_highlight, feature[1]], marker='o', alpha=.3, c=\"orange\");\n",
    "        else:\n",
    "\n",
    "            x = df.loc[~index_highlight,feature[0]]\n",
    "            y = df.loc[~index_highlight, feature[1]]\n",
    "            \n",
    "            ax.scatter(x, y, marker='o', alpha=.3, c=labels);\n",
    "\n",
    "            if regression:\n",
    "\n",
    "                # Calcular los coeficientes de la regresión lineal (pendiente y ordenada al origen)\n",
    "                m, b = np.polyfit(x, y, 1)  # m = pendiente, b = intercepto\n",
    "                \n",
    "                # Crear la línea de regresión\n",
    "                regression_line = m * x + b\n",
    "    \n",
    "                ax.plot(x, regression_line, color='red')\n",
    "        \n",
    "        ax.set_xlabel(feature[0])\n",
    "        ax.set_ylabel(feature[1])"
   ]
  },
  {
   "cell_type": "markdown",
   "id": "76dcda98-c88e-4bf5-9d0c-bf08815d4970",
   "metadata": {},
   "source": [
    "Obtenemos los datos de RFM sin eliminar ningún cliente"
   ]
  },
  {
   "cell_type": "code",
   "execution_count": 48,
   "id": "247f6387-4eee-4dcb-ab73-a39a54868697",
   "metadata": {},
   "outputs": [],
   "source": [
    "df_rfm = get_rfm(df_ventas_csv)"
   ]
  },
  {
   "cell_type": "code",
   "execution_count": 49,
   "id": "01de9ce2-5316-45d7-b60c-45a654e436f8",
   "metadata": {},
   "outputs": [
    {
     "data": {
      "text/html": [
       "<div>\n",
       "<style scoped>\n",
       "    .dataframe tbody tr th:only-of-type {\n",
       "        vertical-align: middle;\n",
       "    }\n",
       "\n",
       "    .dataframe tbody tr th {\n",
       "        vertical-align: top;\n",
       "    }\n",
       "\n",
       "    .dataframe thead th {\n",
       "        text-align: right;\n",
       "    }\n",
       "</style>\n",
       "<table border=\"1\" class=\"dataframe\">\n",
       "  <thead>\n",
       "    <tr style=\"text-align: right;\">\n",
       "      <th></th>\n",
       "      <th>recency</th>\n",
       "      <th>frequency</th>\n",
       "      <th>monetary</th>\n",
       "    </tr>\n",
       "  </thead>\n",
       "  <tbody>\n",
       "    <tr>\n",
       "      <th>count</th>\n",
       "      <td>9512.0</td>\n",
       "      <td>9512.0</td>\n",
       "      <td>9512.0</td>\n",
       "    </tr>\n",
       "    <tr>\n",
       "      <th>mean</th>\n",
       "      <td>1074.0</td>\n",
       "      <td>2.0</td>\n",
       "      <td>168.0</td>\n",
       "    </tr>\n",
       "    <tr>\n",
       "      <th>std</th>\n",
       "      <td>627.0</td>\n",
       "      <td>4.0</td>\n",
       "      <td>683.0</td>\n",
       "    </tr>\n",
       "    <tr>\n",
       "      <th>min</th>\n",
       "      <td>0.0</td>\n",
       "      <td>1.0</td>\n",
       "      <td>6.0</td>\n",
       "    </tr>\n",
       "    <tr>\n",
       "      <th>25%</th>\n",
       "      <td>553.0</td>\n",
       "      <td>1.0</td>\n",
       "      <td>22.0</td>\n",
       "    </tr>\n",
       "    <tr>\n",
       "      <th>50%</th>\n",
       "      <td>996.0</td>\n",
       "      <td>1.0</td>\n",
       "      <td>40.0</td>\n",
       "    </tr>\n",
       "    <tr>\n",
       "      <th>75%</th>\n",
       "      <td>1575.0</td>\n",
       "      <td>2.0</td>\n",
       "      <td>100.0</td>\n",
       "    </tr>\n",
       "    <tr>\n",
       "      <th>90%</th>\n",
       "      <td>2005.0</td>\n",
       "      <td>4.0</td>\n",
       "      <td>300.0</td>\n",
       "    </tr>\n",
       "    <tr>\n",
       "      <th>95%</th>\n",
       "      <td>2160.0</td>\n",
       "      <td>7.0</td>\n",
       "      <td>582.0</td>\n",
       "    </tr>\n",
       "    <tr>\n",
       "      <th>99%</th>\n",
       "      <td>2331.0</td>\n",
       "      <td>15.0</td>\n",
       "      <td>2193.0</td>\n",
       "    </tr>\n",
       "    <tr>\n",
       "      <th>max</th>\n",
       "      <td>2397.0</td>\n",
       "      <td>173.0</td>\n",
       "      <td>25200.0</td>\n",
       "    </tr>\n",
       "  </tbody>\n",
       "</table>\n",
       "</div>"
      ],
      "text/plain": [
       "       recency  frequency  monetary\n",
       "count   9512.0     9512.0    9512.0\n",
       "mean    1074.0        2.0     168.0\n",
       "std      627.0        4.0     683.0\n",
       "min        0.0        1.0       6.0\n",
       "25%      553.0        1.0      22.0\n",
       "50%      996.0        1.0      40.0\n",
       "75%     1575.0        2.0     100.0\n",
       "90%     2005.0        4.0     300.0\n",
       "95%     2160.0        7.0     582.0\n",
       "99%     2331.0       15.0    2193.0\n",
       "max     2397.0      173.0   25200.0"
      ]
     },
     "execution_count": 49,
     "metadata": {},
     "output_type": "execute_result"
    }
   ],
   "source": [
    "df_rfm.describe(percentiles=[.25, .5, .75, .90, .95, .99]).round()"
   ]
  },
  {
   "cell_type": "code",
   "execution_count": 50,
   "id": "ccbd5e30-c276-4d66-a7bb-4e4a4aff60b7",
   "metadata": {},
   "outputs": [
    {
     "data": {
      "text/html": [
       "<div>\n",
       "<style scoped>\n",
       "    .dataframe tbody tr th:only-of-type {\n",
       "        vertical-align: middle;\n",
       "    }\n",
       "\n",
       "    .dataframe tbody tr th {\n",
       "        vertical-align: top;\n",
       "    }\n",
       "\n",
       "    .dataframe thead th {\n",
       "        text-align: right;\n",
       "    }\n",
       "</style>\n",
       "<table border=\"1\" class=\"dataframe\">\n",
       "  <thead>\n",
       "    <tr style=\"text-align: right;\">\n",
       "      <th></th>\n",
       "      <th>Q1</th>\n",
       "      <th>Q3</th>\n",
       "      <th>IQR</th>\n",
       "      <th>upper_bound</th>\n",
       "      <th>total_outliers</th>\n",
       "      <th>perc_outliers</th>\n",
       "    </tr>\n",
       "  </thead>\n",
       "  <tbody>\n",
       "    <tr>\n",
       "      <th>recency</th>\n",
       "      <td>553.0</td>\n",
       "      <td>1575.0</td>\n",
       "      <td>1022.0</td>\n",
       "      <td>3108.0</td>\n",
       "      <td>0.0</td>\n",
       "      <td>0.0</td>\n",
       "    </tr>\n",
       "    <tr>\n",
       "      <th>frequency</th>\n",
       "      <td>1.0</td>\n",
       "      <td>2.0</td>\n",
       "      <td>1.0</td>\n",
       "      <td>3.5</td>\n",
       "      <td>1196.0</td>\n",
       "      <td>12.6</td>\n",
       "    </tr>\n",
       "    <tr>\n",
       "      <th>monetary</th>\n",
       "      <td>22.0</td>\n",
       "      <td>100.0</td>\n",
       "      <td>78.0</td>\n",
       "      <td>217.0</td>\n",
       "      <td>1263.0</td>\n",
       "      <td>13.3</td>\n",
       "    </tr>\n",
       "  </tbody>\n",
       "</table>\n",
       "</div>"
      ],
      "text/plain": [
       "              Q1      Q3     IQR  upper_bound  total_outliers  perc_outliers\n",
       "recency    553.0  1575.0  1022.0       3108.0             0.0            0.0\n",
       "frequency    1.0     2.0     1.0          3.5          1196.0           12.6\n",
       "monetary    22.0   100.0    78.0        217.0          1263.0           13.3"
      ]
     },
     "execution_count": 50,
     "metadata": {},
     "output_type": "execute_result"
    }
   ],
   "source": [
    "get_outliers_metadata(df_rfm)"
   ]
  },
  {
   "cell_type": "markdown",
   "id": "0d648859-24aa-44de-b411-653355bcb9f4",
   "metadata": {},
   "source": [
    "- Recency no tiene atípicos.\n",
    "- Frequency al 75% de la población por debajo de 2 compras y el 90% por debajo de 4. La gran mayoría de los compradores que vamos a analizar compran puntualmente. Según el análisis de atípicos, los que compran 4 veces o más son ya considerados rarezas. Es probable que los excluyamos y los visualicemos a parte, ya que este grupo de clientes los podríamos considerar \"fidelizados\". Podemos ya distinguir aquí entre clientes de \"frecuencia normal\" y \"frecuancia alta\"\n",
    "- Monetary: Por enciam de 217 pesos consideramos clientes atípicos. El 75% de los clientes compra por debajo de 100 pesos. Veremos aquí si podemos distinguir entre clientes \"normales\" y clientes \"premium\" por su gasto. "
   ]
  },
  {
   "cell_type": "markdown",
   "id": "3504d11b-ca25-4b35-a52b-eda70d1e2129",
   "metadata": {},
   "source": [
    "Visualizo las relaciones entre las variables"
   ]
  },
  {
   "cell_type": "code",
   "execution_count": 88,
   "id": "48dbb324-b1f3-4d5f-bc4b-02f35dfd0f59",
   "metadata": {},
   "outputs": [
    {
     "data": {
      "image/png": "[encoded data removed]",
      "text/plain": [
       "<Figure size 1200x400 with 2 Axes>"
      ]
     },
     "metadata": {},
     "output_type": "display_data"
    }
   ],
   "source": [
    "print_scatter_subplots_with_highlight(df_rfm, [(\"monetary\", \"frequency\"),(\"monetary\", \"recency\")], None, None, True)"
   ]
  },
  {
   "cell_type": "markdown",
   "id": "80a30734-032c-41ed-8d3c-71f8afddda7c",
   "metadata": {},
   "source": [
    "- Efectivamente, la gran mayoría de clientes se concentra en la esquina inferior izquierda (bajo monetary, bajo frequency). Vamos a excluir los atípicos, para intentar identificar patrones en la mayoría de clientes\n",
    "- Vamos a eliminar la Recency del análisis para conocer a los clientes. La utilizaremos después para impactar a los clientes con acciones de marketing, según este parámetro."
   ]
  },
  {
   "cell_type": "code",
   "execution_count": 91,
   "id": "f6ed4eea-7356-4285-8331-97364d4c971f",
   "metadata": {},
   "outputs": [],
   "source": [
    "df_rfm_no_outliers = df_rfm[(df_rfm[\"frequency\"]<75) & (df_rfm[\"monetary\"]<5000)]"
   ]
  },
  {
   "cell_type": "code",
   "execution_count": 92,
   "id": "f498ff64-fc49-4559-aa93-616cf9dc6b1f",
   "metadata": {},
   "outputs": [
    {
     "data": {
      "image/png": "[encoded data removed]",
      "text/plain": [
       "<Figure size 600x400 with 1 Axes>"
      ]
     },
     "metadata": {},
     "output_type": "display_data"
    }
   ],
   "source": [
    "print_scatter_subplots_with_highlight(df_rfm_no_outliers, [(\"monetary\", \"frequency\")], None, None, True)"
   ]
  },
  {
   "cell_type": "markdown",
   "id": "9e16a56e-4cae-4025-b82b-4068cbaa432a",
   "metadata": {},
   "source": [
    "- Observando ahora la linea de regresión, vamos que hay un haz de clientes que marca sigue la linea y que podemos visualizar quizás otro grupo de clientes donde la frecuencia aumenta."
   ]
  },
  {
   "cell_type": "markdown",
   "id": "c1eb2c34-76df-4b1a-8e7a-93de2b9d203e",
   "metadata": {},
   "source": [
    "### Cluster Kmeans"
   ]
  },
  {
   "cell_type": "code",
   "execution_count": null,
   "id": "18321266-a20d-4923-89dd-05496d86ab5d",
   "metadata": {},
   "outputs": [],
   "source": [
    "from sklearn.metrics import silhouette_score\n",
    "from sklearn.cluster import KMeans\n",
    "from sklearn.preprocessing import MinMaxScaler"
   ]
  },
  {
   "cell_type": "markdown",
   "id": "48987587-eafc-4efd-bf8d-4bf493d3428d",
   "metadata": {},
   "source": [
    "**Escalado**"
   ]
  },
  {
   "cell_type": "markdown",
   "id": "39be26eb-5d32-4bd4-93dd-e7df65b3f1e5",
   "metadata": {},
   "source": [
    "- Escalamos las variables para que todas se encuentren bajo la misma escala y el cálculo de distancias no se vea influenciado por los diferentes rangos.\n",
    "- Vamos a utilizar normalización Gaussiana, dato que mantiene correctamente las proporciones de las variables.\n"
   ]
  },
  {
   "cell_type": "code",
   "execution_count": null,
   "id": "1096642a-eb99-487d-bfd9-9b8f37839a4a",
   "metadata": {},
   "outputs": [],
   "source": [
    "from sklearn.preprocessing import StandardScaler, MinMaxScaler"
   ]
  },
  {
   "cell_type": "code",
   "execution_count": null,
   "id": "fdfe906a-29ba-4bfc-906f-aede956ef8cb",
   "metadata": {},
   "outputs": [],
   "source": [
    "standar_scaler = StandardScaler()\n",
    "rfm_scaled = standar_scaler.fit_transform(df_rfm)\n",
    "df_rfm_scaled = pd.DataFrame(rfm_scaled, columns=df_rfm.columns)"
   ]
  },
  {
   "cell_type": "code",
   "execution_count": null,
   "id": "148a8a21-d59e-4cae-b30f-67ba0c8f3899",
   "metadata": {},
   "outputs": [],
   "source": [
    "print_scatter_subplots_with_highlight(df_rfm_scaled, [(\"monetary\", \"frequency\")], None, None)"
   ]
  },
  {
   "cell_type": "markdown",
   "id": "a0245205-8c56-43a8-9220-7e68255c2cd6",
   "metadata": {},
   "source": [
    "Para asegurarnos de que el escalado elegido es el correcto, vamos a visualizar los datos con el escalado MinMax, que transforma la escala de cada variable a (0,1)"
   ]
  },
  {
   "cell_type": "code",
   "execution_count": null,
   "id": "a4b04867-a794-46cc-9231-ad2360bb8aef",
   "metadata": {},
   "outputs": [],
   "source": [
    "min_max_scaler = MinMaxScaler()\n",
    "rfm_scaled_test = min_max_scaler.fit_transform(df_rfm)\n",
    "df_rfm_scaled_test = pd.DataFrame(rfm_scaled_test, columns=df_rfm.columns)"
   ]
  },
  {
   "cell_type": "code",
   "execution_count": null,
   "id": "ffa91f5f-7ef3-4aa3-9cbf-1f0854ef6a77",
   "metadata": {},
   "outputs": [],
   "source": [
    "print_scatter_subplots_with_highlight(df_rfm_scaled_test, [(\"monetary\", \"frequency\")], None, None)"
   ]
  },
  {
   "cell_type": "markdown",
   "id": "a4c113a3-d627-4c67-a99d-c308be2dbaba",
   "metadata": {},
   "source": [
    "- Podemos observar el escalado MinMax ha deformado la relación de las variables. Para los valores de Monetary, que tiene algunos más extremos, éstos han quedado incluidos dentreo de la escala (0,1) y por lo tanto, las distancias entre los puntos del nucleo van a quedar más acortadas, cuando las comparemos con las de frequency."
   ]
  },
  {
   "cell_type": "markdown",
   "id": "95aca7e6-bded-47de-80d6-bce04ed5e8ba",
   "metadata": {},
   "source": [
    "**Cálculo del número optimo de clusters**"
   ]
  },
  {
   "cell_type": "markdown",
   "id": "ac9b0db8-ac82-43d6-b61a-8d68bfc4f472",
   "metadata": {},
   "source": [
    "##### Método del codo"
   ]
  },
  {
   "cell_type": "code",
   "execution_count": null,
   "id": "d0a23804-8f9a-4a52-bef7-201174ca2d4d",
   "metadata": {},
   "outputs": [],
   "source": [
    "df_rfm_scaled = df_rfm_scaled[[\"frequency\",\"monetary\"]]"
   ]
  },
  {
   "cell_type": "code",
   "execution_count": null,
   "id": "407553ed-24f8-4348-97ad-55cb7311f76e",
   "metadata": {},
   "outputs": [],
   "source": [
    "inertia= []\n",
    "max_clusters = 20\n",
    "for i in range(1,max_clusters):\n",
    "    kmeans = KMeans(n_clusters=i, random_state=42).fit(df_rfm_scaled)\n",
    "    inertia.append(kmeans.inertia_)"
   ]
  },
  {
   "cell_type": "code",
   "execution_count": null,
   "id": "4ec9dd69-eda3-40b2-9cb1-1b19a3615ee8",
   "metadata": {},
   "outputs": [],
   "source": [
    "plt.plot(range(1,max_clusters), inertia);\n",
    "plt.xticks(ticks=np.arange(1, max_clusters));\n",
    "#plt.xlim(left=2)\n",
    "plt.grid(axis=\"x\");"
   ]
  },
  {
   "cell_type": "markdown",
   "id": "497af35c-144c-4ce6-9143-1de0c41c3cb2",
   "metadata": {},
   "source": [
    "Visulamente, el número correcto aparenta estar entre 2 y 5 clusters, aunque parece haber un codo también en el 8."
   ]
  },
  {
   "cell_type": "markdown",
   "id": "956103eb-2e6a-46a9-a15d-4bb2109cbfe1",
   "metadata": {},
   "source": [
    "##### Análisis Silhouette"
   ]
  },
  {
   "cell_type": "code",
   "execution_count": null,
   "id": "6f6665fa-0c0f-4f10-8bf5-994b0685f171",
   "metadata": {},
   "outputs": [],
   "source": [
    "from sklearn.metrics import silhouette_score, silhouette_samples\n",
    "\n",
    "def analisis_silhouette(max_clusters):\n",
    "\n",
    "    s_score = []\n",
    "    \n",
    "    for n in range(2,max_clusters+1):\n",
    "    \n",
    "        cluster_labels = KMeans(n_clusters=n, random_state=42).fit_predict(df_rfm_scaled)\n",
    "        \n",
    "        # Average silhouette score\n",
    "        silhouette_avg = silhouette_score(df_rfm_scaled, cluster_labels)\n",
    "        \n",
    "        s_score.append(silhouette_avg)\n",
    "    \n",
    "    plt.xticks(ticks=np.arange(2, max_clusters+1));\n",
    "    plt.plot(range(2,max_clusters+1),s_score);"
   ]
  },
  {
   "cell_type": "code",
   "execution_count": null,
   "id": "ef298752-a542-42c2-8604-2aa09fe348fd",
   "metadata": {},
   "outputs": [],
   "source": [
    "# analisis_silhouette(10)"
   ]
  },
  {
   "cell_type": "markdown",
   "id": "326e48f5-6126-4b2f-8408-ceaac6c7ee35",
   "metadata": {},
   "source": [
    "Analizando el valor de silhouette, vemos que la mejor separación la optenemos con 2, 4 y 5 grupos.\n",
    "\n",
    "El **analisis silhouette** ofrece una visualización **más precisa** que el método del codo. Se observan mejor los puntos de mejora de las métricas de clusterización"
   ]
  },
  {
   "cell_type": "markdown",
   "id": "d46db3d0-62f0-47c8-990c-e005eeb6e1de",
   "metadata": {},
   "source": [
    "**Visualizamos para K=2, K=4 y K=5**"
   ]
  },
  {
   "cell_type": "code",
   "execution_count": null,
   "id": "d53ccd67-1943-4144-9750-2f911f9725c6",
   "metadata": {},
   "outputs": [],
   "source": [
    "cluster_labels_3 = KMeans(n_clusters=3, random_state=42).fit_predict(df_rfm_scaled)\n",
    "cluster_labels_4 = KMeans(n_clusters=4, random_state=42).fit_predict(df_rfm_scaled)\n",
    "cluster_labels_5 = KMeans(n_clusters=5, random_state=42).fit_predict(df_rfm_scaled)"
   ]
  },
  {
   "cell_type": "markdown",
   "id": "8d692321-eb4a-4624-bc46-f441b7e025c5",
   "metadata": {},
   "source": [
    "**K=2**"
   ]
  },
  {
   "cell_type": "code",
   "execution_count": null,
   "id": "213fa3cd-0a3a-48ae-bfe8-dd0e8d5c18e0",
   "metadata": {},
   "outputs": [],
   "source": [
    "print_scatter_subplots_with_highlight(df_rfm, [( \"monetary\", \"frequency\")],cluster_labels_3, None)"
   ]
  },
  {
   "cell_type": "markdown",
   "id": "d6edd01d-0450-4491-86f7-2a8cf287eeed",
   "metadata": {},
   "source": [
    "Con dos grupos, el algoritmo divide a la población por mayoritariamente por frecuencia de compra (gráfico izquierda) y por recencia (gráfico derecha). Esta segmentación parece mejorable, ya que el valor monetaraio de los clientes debería tenerse más en cuenta."
   ]
  },
  {
   "cell_type": "markdown",
   "id": "64d3d45f-2ca7-4ee0-ae9a-b40f28e3c3cf",
   "metadata": {},
   "source": [
    "**K=4**"
   ]
  },
  {
   "cell_type": "code",
   "execution_count": null,
   "id": "47f7a472-cfe8-4476-81ec-6c1e466e7f15",
   "metadata": {},
   "outputs": [],
   "source": [
    "print_scatter_subplots_with_highlight(df_rfm, [( \"monetary\", \"frequency\")],cluster_labels_4, None)"
   ]
  },
  {
   "cell_type": "markdown",
   "id": "bd2ae954-23a9-46a0-9813-94694547b0c1",
   "metadata": {},
   "source": [
    "Al pasar a cuatro grupos, ya sí distinguimos la división por valor monetario. Vamos a analizar los grupos partiendo del gráfico FM (Frequency vs Monetary):\n",
    "- Vemos un grupo claramente indentificado de valor monetario medio y alta frecuencia (cluster azul). Este grupo también se observa bien diferenciado en el gráfico RM (Recency vs Monetary). Son clientes con compras recientes. Podríamos llamar a este grupo **clientes habituales**.\n",
    "- El grupo morado identifica a los clientes de valor monetario medio y  baja frecuencia. Gastan como el grupo azul (\"clientes habituales\"), pero con menos frecuencia de compra. ¿No necesitan tanto nuestros servicios? ¿Son empresas más pequeñas? ¿Cómo podemos aumentar su frecuencia de compra?. Lo llamaremos **clientes puntuales**\n",
    "- El grupo verde contiene el mismo tipo de cliente que el grupo morado, pero captura algunos clientes de valor monetario más alto. Estos dos grupos tienen una gran intersección debido a que se diferencian en la recencia: el grupo morado ha realizado compras más recientes. El grupo verde pueden ser **clientes puntuales de baja recencia**, que hace tiempo que no compran. Tal vez estén en riesgo de dejar de utilizar nuestros servicios.\n",
    "- Por último, el grupo amarillo nos identifica clientes de valor monetario alto y frecuencias alta y media. Podrían ser nuestros **clientes premium**. Hay que destacar que en este grupo están mezclados clientes de diferentes frecuencias y tal vez se pudiera subdivir aún más, en clientes premium y ultra premium (para los clientes de muy alta frecuencia). Los clientes de valor monetario alto pero baja frecuencia quedaron capturados en el grupo verde."
   ]
  },
  {
   "cell_type": "markdown",
   "id": "9b6539de-55ec-4f5b-a4e6-e0bdb306170e",
   "metadata": {},
   "source": [
    "**K=5**"
   ]
  },
  {
   "cell_type": "code",
   "execution_count": null,
   "id": "cb3f9574-afd7-44f1-9336-7aaf5b73920b",
   "metadata": {},
   "outputs": [],
   "source": [
    "print_scatter_subplots_with_highlight(df_rfm, [( \"monetary\", \"frequency\")],cluster_labels_5, None)"
   ]
  },
  {
   "cell_type": "markdown",
   "id": "bfa7f420-597e-4da8-8353-35528def3b99",
   "metadata": {},
   "source": [
    "- Al pasar a 5 grupos, ganamos en la diferención del segmento de valor monetario alto, que queda identificado en un mismo grupo (verde clarito), sin importar ni la frecuencia, ni la recencia. Es probablemente la mayor diferencia entre la clusterizaciones de 4 y 5 grupos\n",
    "- Tendríamos que preguntarnos si nos interesa hacer esta diferencian en nuestras estratégias de marketing. ¿El grupo de valor monetario alto es suficientemente especial, como para tratarlo por separado, sin importar la frecuencia ni la recencia? "
   ]
  },
  {
   "cell_type": "markdown",
   "id": "783903ff-0bb7-4da5-a258-39e679dfeb39",
   "metadata": {},
   "source": [
    "**Conclusiones**"
   ]
  },
  {
   "cell_type": "markdown",
   "id": "19376c9a-8082-4e8c-b128-863d273b9aa0",
   "metadata": {},
   "source": [
    "- El análisis RFM es realmente útil a la hora de dividir los segmentos de clientes y poder enfocar las estratégisas de marketing.\n",
    "- Según el enfoque del negocio, podremos elegir el número de grupos de la clusterización.\n",
    "- El análisis silhouette es una herramienta realmente poderosa a la hora de encontrar el número ideal de grupos.\n",
    "- La elección del método de escalado de los datos es crítico a la hora de la clusterización. Si no se elige bien, se pueden desvirtuar los análisis."
   ]
  },
  {
   "cell_type": "markdown",
   "id": "cc53baf3-0b82-4dd7-87cd-ff09092a34fa",
   "metadata": {},
   "source": [
    "## Data Exploration para el modelo predictivo"
   ]
  },
  {
   "cell_type": "markdown",
   "id": "d6c2f53a-ea2b-49f5-95df-462e113c1951",
   "metadata": {},
   "source": [
    "Finalmente, voy a utilizar la clusterización con 4 grupos, para probar los modelos predictivos. Esta es una decisión que deberían hacer los equipos de negocio, según el resultado de los segmentos y las estrategías de marketing a seguir.\n",
    "\n",
    "El etiquetado de los clientes para entrenar el modelo predictivo será el siguiente:\n",
    "- **clientes habituales** (valor moneterio medio, alta frecuencia y alta recencia)\n",
    "- **clientes puntuales** (valor moneterio medio, baja frecuencia y alta recencia)\n",
    "- **clientes puntuales de baja recencia** (valor moneterio medio, baja frecuencia y baja recencia)\n",
    "- **clientes premium** (valor moneterio medio, frecuencia alta y media y recencia alta y media)"
   ]
  },
  {
   "cell_type": "markdown",
   "id": "3c841d26-84a9-466a-a2f4-1a7d1f496d2b",
   "metadata": {},
   "source": [
    "#### Construcción de etiquetas"
   ]
  },
  {
   "cell_type": "code",
   "execution_count": null,
   "id": "f005e3b5-4dde-46b8-bd1f-9efe8d63061e",
   "metadata": {},
   "outputs": [],
   "source": [
    "df_labels = pd.DataFrame(columns=[\"class\",\"class_desc\",\"class_desc_short\"]).set_index(\"class\")"
   ]
  },
  {
   "cell_type": "markdown",
   "id": "9dee5a65-b85f-4314-9761-1a64e42ed9ca",
   "metadata": {},
   "source": [
    "##### Grupo 0 - clientes puntuales"
   ]
  },
  {
   "cell_type": "code",
   "execution_count": null,
   "id": "61757f1d-e501-4d6e-a0ed-27028bb86b7f",
   "metadata": {},
   "outputs": [],
   "source": [
    "print_scatter_subplots_with_highlight(df_rfm, [(\"monetary\", \"frequency\"),(\"monetary\", \"recency\")], cluster_labels_4, 0)"
   ]
  },
  {
   "cell_type": "code",
   "execution_count": null,
   "id": "8b2e7215-370d-4aa2-9e56-8e356a2e49a3",
   "metadata": {},
   "outputs": [],
   "source": [
    "df_labels.loc[0] = (\"clientes habituales\",\"CH\")"
   ]
  },
  {
   "cell_type": "markdown",
   "id": "93b2984b-50a9-4589-a667-ba04a23baa70",
   "metadata": {},
   "source": [
    "##### Grupo 1 - clientes habituales"
   ]
  },
  {
   "cell_type": "code",
   "execution_count": null,
   "id": "d2d9ded8-db30-49c6-ab38-f44938d74e0b",
   "metadata": {},
   "outputs": [],
   "source": [
    "print_RFM_subplots_with_highlight(df_rfm, [(\"monetary\", \"frequency\"),(\"monetary\", \"recency\")], cluster_labels_4, 1)"
   ]
  },
  {
   "cell_type": "code",
   "execution_count": null,
   "id": "1b6b2eb4-9f93-4498-8afb-e98b583e1abe",
   "metadata": {},
   "outputs": [],
   "source": [
    "df_labels.loc[1] = (\"clientes habituales baja frecuancia\",\"CHBF\")"
   ]
  },
  {
   "cell_type": "markdown",
   "id": "483bb776-7636-4a9f-84ce-06d9baaa960c",
   "metadata": {},
   "source": [
    "##### Grupo 2 - clientes puntuales de baja recencia"
   ]
  },
  {
   "cell_type": "code",
   "execution_count": null,
   "id": "4d434f2d-466a-41f8-a050-68d66ba0daef",
   "metadata": {},
   "outputs": [],
   "source": [
    "print_RFM_subplots_with_highlight(df_rfm,[(\"monetary\", \"frequency\"),(\"monetary\", \"recency\")], cluster_labels_4, 2)"
   ]
  },
  {
   "cell_type": "code",
   "execution_count": null,
   "id": "fde6acd6-cb08-4878-9710-e5934d27354b",
   "metadata": {},
   "outputs": [],
   "source": [
    "df_labels.loc[2] = (\"clientes premium superior\",\"CPREMSUM\")"
   ]
  },
  {
   "cell_type": "markdown",
   "id": "6dc23d1f-1d27-4681-b52b-c7c41285ce4b",
   "metadata": {},
   "source": [
    "##### Grupo 3 - clientes premium"
   ]
  },
  {
   "cell_type": "code",
   "execution_count": null,
   "id": "7cfcfd17-50e6-4233-b7f7-fdf98da8dc88",
   "metadata": {},
   "outputs": [],
   "source": [
    "print_RFM_subplots_with_highlight(df_rfm, [(\"monetary\", \"frequency\"),(\"monetary\", \"recency\")], cluster_labels_4, 3)"
   ]
  },
  {
   "cell_type": "code",
   "execution_count": null,
   "id": "06accb3c-ee6e-4719-9d5e-813bb776668e",
   "metadata": {},
   "outputs": [],
   "source": [
    "df_labels.loc[3] = (\"clientes premium\",\"CPREM\")"
   ]
  },
  {
   "cell_type": "code",
   "execution_count": null,
   "id": "71f1fb47-5b21-4235-9326-256c43e1e5b4",
   "metadata": {},
   "outputs": [],
   "source": [
    "print_RFM_subplots_with_highlight(df_rfm, cluster_labels_5, 4)"
   ]
  },
  {
   "cell_type": "code",
   "execution_count": null,
   "id": "55c078c0-3d92-41bf-9a05-bd5d00736922",
   "metadata": {},
   "outputs": [],
   "source": [
    "df_labels.loc[4] = (\"clientes superior\",\"CSUP\")"
   ]
  },
  {
   "cell_type": "markdown",
   "id": "6fb98e60-a2c7-48bb-8c7a-a41d2a17eb81",
   "metadata": {},
   "source": [
    "Añadimos las etiquetas a los clientes segmentados y lo mezclamos con el df de descripción de etiquetas"
   ]
  },
  {
   "cell_type": "code",
   "execution_count": null,
   "id": "7bc5bfc4-b8fd-4b38-816a-b01f73f96f0e",
   "metadata": {},
   "outputs": [],
   "source": [
    "df_rfm[\"class\"] = cluster_labels_5\n",
    "df_rfm_with_label = df_rfm.join(df_labels, on=\"class\", how=\"inner\")\n",
    "\n",
    "df_rfm_with_label.head()"
   ]
  },
  {
   "cell_type": "code",
   "execution_count": null,
   "id": "1244eb6c-ffd3-436c-ac0d-282b146003e0",
   "metadata": {},
   "outputs": [],
   "source": [
    "df_labels"
   ]
  },
  {
   "cell_type": "markdown",
   "id": "086c473e-c18a-4b47-b7f3-c9510a875585",
   "metadata": {},
   "source": [
    "Vamos a visualizar el número de clientes por clase"
   ]
  },
  {
   "cell_type": "code",
   "execution_count": null,
   "id": "f8a521c0-e2db-458b-aaf0-616a6d0005a2",
   "metadata": {},
   "outputs": [],
   "source": [
    "unique_values, counts = np.unique(df_rfm_with_label[\"class\"], return_counts=True)"
   ]
  },
  {
   "cell_type": "code",
   "execution_count": null,
   "id": "8eb26960-d810-4007-86a3-3dc6647f2353",
   "metadata": {},
   "outputs": [],
   "source": [
    "plt.figure(figsize=(4, 3)) \n",
    "plt.barh(df_labels[\"class_desc\"],counts);"
   ]
  },
  {
   "cell_type": "markdown",
   "id": "5509a092-b111-4996-abfa-19fdc082dbf1",
   "metadata": {},
   "source": [
    "- Las clases están desbalanceadas. Cuando tengamos todas las features para predicción seleccionadas, tendremos que realizar oversampling."
   ]
  },
  {
   "cell_type": "markdown",
   "id": "2b874ecb-733e-48ac-9093-db1560e2cb9e",
   "metadata": {},
   "source": [
    "### Carga de los ficheros y exploración básica"
   ]
  },
  {
   "cell_type": "code",
   "execution_count": null,
   "id": "0d96f92a-708e-461d-ba24-bd87d219e644",
   "metadata": {},
   "outputs": [],
   "source": [
    "df_clientes_csv = pd.read_csv(\"data/CLIENTES.TXT\", sep=\"|\", header=0)"
   ]
  },
  {
   "cell_type": "markdown",
   "id": "19f33eaa-eaef-4a0c-8065-ed264a710b67",
   "metadata": {},
   "source": [
    "**Transformación de tipos y set index**"
   ]
  },
  {
   "cell_type": "code",
   "execution_count": null,
   "id": "b66736a4-c64c-4ac7-bc41-bc849b00e7e0",
   "metadata": {},
   "outputs": [],
   "source": [
    "df_clientes_csv['ID'] = df_clientes_csv['ID'].astype(str).str.strip()\n",
    "df_clientes_csv = df_clientes_csv.set_index(\"ID\")\n",
    "df_clientes_csv['FECHA_REGISTRO'] = pd.to_datetime(df_clientes_csv['FECHA_REGISTRO'], format='%d/%m/%Y %H:%M:%S')\n",
    "df_clientes_csv['FECHA_CLIENTE'] = pd.to_datetime(df_clientes_csv['FECHA_CLIENTE'], format='%d/%m/%Y %H:%M:%S')"
   ]
  },
  {
   "cell_type": "code",
   "execution_count": null,
   "id": "578a041e-97f3-4d9b-8f75-30da9b6d4025",
   "metadata": {},
   "outputs": [],
   "source": [
    "df_clientes_csv.info()"
   ]
  },
  {
   "cell_type": "code",
   "execution_count": null,
   "id": "fac55d54-db3b-4271-bfdc-911d66194d17",
   "metadata": {},
   "outputs": [],
   "source": [
    "df_clientes_csv.head()"
   ]
  },
  {
   "cell_type": "markdown",
   "id": "9eaa8bde-08c5-4025-b1db-02c995b6e0e5",
   "metadata": {},
   "source": [
    "**Filtramos los clientes categorizados en el RFM y les asignamos la clase**"
   ]
  },
  {
   "cell_type": "code",
   "execution_count": null,
   "id": "a429f5ec-c2c7-4c80-b983-3e41503f76d5",
   "metadata": {},
   "outputs": [],
   "source": [
    "df_clientes_csv_rfm_with_label = df_clientes_csv.join(df_rfm_with_label[[\"class\",\"class_desc_short\"]], how=\"inner\")"
   ]
  },
  {
   "cell_type": "code",
   "execution_count": null,
   "id": "65600180-2363-46b4-b5fb-ff2d88cb708c",
   "metadata": {},
   "outputs": [],
   "source": [
    "df_clientes_csv_rfm_with_label.head()"
   ]
  },
  {
   "cell_type": "markdown",
   "id": "6e73701c-2c5b-4539-87d7-987e70584656",
   "metadata": {},
   "source": [
    "**Check nulos**"
   ]
  },
  {
   "cell_type": "code",
   "execution_count": null,
   "id": "3cecbb23-09d7-40a7-93ac-8d99cb98a5ca",
   "metadata": {},
   "outputs": [],
   "source": [
    "df_clientes_csv_rfm_with_label.isna().sum()"
   ]
  },
  {
   "cell_type": "markdown",
   "id": "54c79d6f-8512-4bb3-88e7-2f4dc120488f",
   "metadata": {},
   "source": [
    "Solo encontramos nulos en DEPARTAMENTO, TAMAÑO y ANTIGUEDAD. Los trataremos individualmente."
   ]
  },
  {
   "cell_type": "markdown",
   "id": "d274fe82-4088-49fe-bf00-372690ef41d6",
   "metadata": {},
   "source": [
    "**FECHA_REGISTRO**\n",
    "- Fecha en la que se registra el usuario en la web. No tiene por qué ser en la que se convierte en cliente: realiza una compra."
   ]
  },
  {
   "cell_type": "code",
   "execution_count": null,
   "id": "3f6e83e7-fdb5-4bb5-8097-5521728913c0",
   "metadata": {},
   "outputs": [],
   "source": [
    "print(df_clientes_csv_rfm_with_label[\"FECHA_REGISTRO\"].min())\n",
    "print(df_clientes_csv_rfm_with_label[\"FECHA_REGISTRO\"].max())"
   ]
  },
  {
   "cell_type": "markdown",
   "id": "030a3163-ff7e-4aab-99e4-18ae9af6e861",
   "metadata": {},
   "source": [
    "- No se observan valores fuera de rango. Variable OK."
   ]
  },
  {
   "cell_type": "markdown",
   "id": "12ebc0b7-e94d-4dc5-9250-7d7ec793825d",
   "metadata": {},
   "source": [
    "**CANAL_REGISTRO**\n",
    "- Canal por el que fue captado el usuario"
   ]
  },
  {
   "cell_type": "code",
   "execution_count": null,
   "id": "9411a59a-649f-4dfa-b4b0-6fbb985495f5",
   "metadata": {},
   "outputs": [],
   "source": [
    "df_clientes_csv_rfm_with_label[\"CANAL_REGISTRO\"].value_counts()"
   ]
  },
  {
   "cell_type": "markdown",
   "id": "efb60718-d35c-4596-b320-9783607c7094",
   "metadata": {},
   "source": [
    "- No se observan valores extraños. Variable OK"
   ]
  },
  {
   "cell_type": "markdown",
   "id": "ab0da29e-58ee-45bc-945e-f6f31ecb7173",
   "metadata": {},
   "source": [
    "**FECHA_CLIENTE**\n",
    "- Fecha de la primera compra"
   ]
  },
  {
   "cell_type": "code",
   "execution_count": null,
   "id": "25cd0608-5d11-4426-9ac9-61e05e4e7fb6",
   "metadata": {},
   "outputs": [],
   "source": [
    "print(df_clientes_csv_rfm_with_label[\"FECHA_REGISTRO\"].min())\n",
    "print(df_clientes_csv_rfm_with_label[\"FECHA_REGISTRO\"].max())"
   ]
  },
  {
   "cell_type": "markdown",
   "id": "8648f2fe-fe36-447e-8989-b39231e4b4cd",
   "metadata": {},
   "source": [
    "- No se observan valores fuera de rango. Variable OK.\n",
    "- Los valores son coherentes con la FECHA_REGISTRO. El mínimo de fecha cliente es igual al de fecha registro. Sucede igual con el máximo."
   ]
  },
  {
   "cell_type": "markdown",
   "id": "0e6e6003-b728-4513-a5ad-772b406ce3a3",
   "metadata": {},
   "source": [
    "**CLIENTEPORCAMPAÑAEMAIL**\n",
    "\n",
    "1 - Compró por una Campaña de Email"
   ]
  },
  {
   "cell_type": "code",
   "execution_count": null,
   "id": "6278b317-df2f-42ea-b8a4-a3a0d63fa0e0",
   "metadata": {},
   "outputs": [],
   "source": [
    "df_clientes_csv_rfm_with_label[\"CLIENTEPORCAMPAÑAEMAIL\"].value_counts()"
   ]
  },
  {
   "cell_type": "markdown",
   "id": "6791b5cf-c0d9-4973-a6eb-54d9365480c9",
   "metadata": {},
   "source": [
    "- El 9% de los clientes compró por una campaña de email"
   ]
  },
  {
   "cell_type": "markdown",
   "id": "ee90603c-3045-42e9-a277-bdb71eb0ef4d",
   "metadata": {},
   "source": [
    "**FORMAJURIDICA**\n",
    "- Forma Societaria de la Empresa/Persona:\n",
    "    - ADMINISTRACION\n",
    "    - EMBAJADAS Y ORGANISMOS INTERNACIONALES\n",
    "    - EMPRESARIO\n",
    "    - ESAL, Empresa sin Ánimo de Lucro\n",
    "    - PERSONA FISICA que no tiene sociedad ni es empresario\n",
    "    - SOCIEDAD Colombiana, SAS, SA, LTDA, etc.\n",
    "    - SOCIEDAD EXTRANJERA cuya matriz es extranjera"
   ]
  },
  {
   "cell_type": "code",
   "execution_count": null,
   "id": "f49c7070-5939-40e5-a467-53a277a01b29",
   "metadata": {},
   "outputs": [],
   "source": [
    "df_clientes_csv_rfm_with_label[\"FORMAJURIDICA\"].value_counts()"
   ]
  },
  {
   "cell_type": "markdown",
   "id": "42661790-797b-4cdb-ad63-fd4a3e92a9fa",
   "metadata": {},
   "source": [
    "- No se observan valores extraños. Los valores con coherentes con lo esperado.\n",
    "- Más de la mitad de los compradores son personas físicas."
   ]
  },
  {
   "cell_type": "markdown",
   "id": "0fb04a3a-e436-44cf-9d3e-4d8af2b076d3",
   "metadata": {},
   "source": [
    "**SECTOR**\n",
    "- Letra del Sector de Actividad"
   ]
  },
  {
   "cell_type": "code",
   "execution_count": null,
   "id": "dcabaa79-e165-48b0-bf76-298479605ec9",
   "metadata": {},
   "outputs": [],
   "source": [
    "df_clientes_csv_rfm_with_label[\"SECTOR\"].value_counts()"
   ]
  },
  {
   "cell_type": "markdown",
   "id": "18da9a04-5719-4c58-9266-bb39e0eb3101",
   "metadata": {},
   "source": [
    "- No se observan valores extraños."
   ]
  },
  {
   "cell_type": "markdown",
   "id": "e7819341-1e3a-467c-8bc1-57c9fbcc3182",
   "metadata": {},
   "source": [
    "**DESC_SECTOR**"
   ]
  },
  {
   "cell_type": "code",
   "execution_count": null,
   "id": "879652eb-b466-467d-82ab-3111227c3c8a",
   "metadata": {},
   "outputs": [],
   "source": [
    "frecuencias = df_clientes_csv_rfm_with_label[\"DESC_SECTOR\"].str[:100].value_counts()\n",
    "porcentajes = (frecuencias / len(df_clientes_csv_rfm_with_label)) * 100\n",
    "porcentajes"
   ]
  },
  {
   "cell_type": "markdown",
   "id": "9a958e5a-fba0-4eb8-bf8f-42b45787f95d",
   "metadata": {},
   "source": [
    "- El valor predominante \"NOSECTOR\" coincide con el número de personas físicas y representa casi el 44% de la población.,\n",
    "- El sector más representado para las personas jurídicas es \"COMERCIO AL POR MAYOR Y AL POR MENOR; REPARACIÓN DE VEHÍCULOS AUTOMOTORES Y MOTOCICLETAS\", seguido de \"ACTIVIDADES PROFESIONALES, CIENTÍFICAS Y TÉCNICAS\" e \"INDUSTRIAS MANUFACTURERAS\"."
   ]
  },
  {
   "cell_type": "markdown",
   "id": "b1f40bdf-39d5-476c-88d0-6cd5c29a8b8c",
   "metadata": {},
   "source": [
    "- Como los textos son muy largos, utilizaremos la variable SECTOR para clasificar. Para mostrar la descripción posteriormente, utilizaremos la dimensión DESC_SECTOR del fichero \"SECTORES.TXT\""
   ]
  },
  {
   "cell_type": "code",
   "execution_count": null,
   "id": "54cc1dcb-5a4f-4c7e-af5a-518d828fb3ef",
   "metadata": {},
   "outputs": [],
   "source": [
    "df_sectores_csv = pd.read_csv(\"data/SECTORES.TXT\", sep=\"|\", header=0)"
   ]
  },
  {
   "cell_type": "code",
   "execution_count": null,
   "id": "90add879-853f-4441-9409-c853983fc167",
   "metadata": {},
   "outputs": [],
   "source": [
    "df_sectores_csv.info()"
   ]
  },
  {
   "cell_type": "code",
   "execution_count": null,
   "id": "0238609c-6c29-4489-8b6f-08e739c0a087",
   "metadata": {},
   "outputs": [],
   "source": [
    "df_sectores_csv.head()"
   ]
  },
  {
   "cell_type": "markdown",
   "id": "6cf42201-ff2d-4fcf-bcf7-dfc550132d31",
   "metadata": {},
   "source": [
    "check cruce"
   ]
  },
  {
   "cell_type": "code",
   "execution_count": null,
   "id": "e65959e2-da63-4519-8e0f-7db504b10db4",
   "metadata": {},
   "outputs": [],
   "source": [
    "df_clientes_csv_rfm_with_label.merge(df_sectores_csv, on=\"SECTOR\", how=\"inner\").shape"
   ]
  },
  {
   "cell_type": "markdown",
   "id": "c4324ba1-834d-4053-b307-514f043b1b55",
   "metadata": {},
   "source": [
    "- Obtenemos los mismos clientes. No se descarta ninguno por no cruzar y no se generan duplicados. Dimensión OK."
   ]
  },
  {
   "cell_type": "code",
   "execution_count": null,
   "id": "30fec117-7196-4ab5-b6e7-cca1675508a3",
   "metadata": {},
   "outputs": [],
   "source": [
    "df_sectores_csv[\"DESC_SECTOR\"].str[:100].value_counts()"
   ]
  },
  {
   "cell_type": "markdown",
   "id": "696a40b3-b3d0-4d9f-9470-6b7613f106cd",
   "metadata": {},
   "source": [
    "- Los textos parecen OK"
   ]
  },
  {
   "attachments": {},
   "cell_type": "markdown",
   "id": "314e9208-98ed-4a83-8bdb-338e4b2e2b41",
   "metadata": {},
   "source": [
    "**ESTADO**\n",
    "\n",
    "Situación de la Persona/Empresa:\n",
    "- ACTIVA\n",
    "- EXTINGUIDA\n",
    "- INACTIVA\n",
    "- INSOLVENTE\n",
    "- VIVA (solo Personas Físicas)"
   ]
  },
  {
   "cell_type": "code",
   "execution_count": null,
   "id": "c838b361-14c1-4037-a88f-d4ef70f69c49",
   "metadata": {},
   "outputs": [],
   "source": [
    "df_clientes_csv_rfm_with_label[\"ESTADO\"].value_counts()"
   ]
  },
  {
   "cell_type": "markdown",
   "id": "6c9890da-80c2-49be-8144-583549c50807",
   "metadata": {},
   "source": [
    "- No se observan valores extraños\n",
    "- El valor VIVA coincide con las personas físicas."
   ]
  },
  {
   "attachments": {},
   "cell_type": "markdown",
   "id": "6366615f-b77a-41a7-b192-acabab818ec6",
   "metadata": {},
   "source": [
    "**DEPARTAMENTO**\n",
    "\n",
    "Departamento de Colombia donde reside."
   ]
  },
  {
   "cell_type": "code",
   "execution_count": null,
   "id": "3a4db07d-63a6-4ba1-a35f-2c749cea51af",
   "metadata": {},
   "outputs": [],
   "source": [
    "df_clientes_csv_rfm_with_label[\"DEPARTAMENTO\"].value_counts(dropna=False)"
   ]
  },
  {
   "cell_type": "markdown",
   "id": "9f4453f4-b9c6-4fa9-a696-7890006a2873",
   "metadata": {},
   "source": [
    "- Se observan los NaN identificados previamente. Los demás datos parecen OK.\n",
    "- Las personas físicas coinciden con los NaN.\n",
    "- El departamente con más clientes es BOGOTA. Tiene sentido porque es la capital."
   ]
  },
  {
   "cell_type": "code",
   "execution_count": null,
   "id": "3c9c362f-dc5c-48ac-affb-a37bb71ef5a4",
   "metadata": {},
   "outputs": [],
   "source": [
    "df_clientes_csv_rfm_with_label[\"DEPARTAMENTO\"] = df_clientes_csv_rfm_with_label[\"DEPARTAMENTO\"].fillna(\"VACIO\")"
   ]
  },
  {
   "attachments": {},
   "cell_type": "markdown",
   "id": "e0082caf-78f0-4d75-aa0d-04bb1cffe37c",
   "metadata": {},
   "source": [
    "**TAMAÑO**\n",
    "\n",
    "Tamaño de la Sociedad(no Personas Físicas):\n",
    "- GRANDE\n",
    "- MEDIANA\n",
    "- MICRO\n",
    "- PEQUEÑA\n",
    "- SIN DETERMINAR"
   ]
  },
  {
   "cell_type": "code",
   "execution_count": null,
   "id": "4743c861-5239-4537-a82a-e3a9e45cb5a4",
   "metadata": {},
   "outputs": [],
   "source": [
    "df_clientes_csv_rfm_with_label[\"TAMAÑO\"].value_counts(dropna=False)"
   ]
  },
  {
   "cell_type": "markdown",
   "id": "f49f3d9f-5cf3-492e-abc0-ffd2ae98f03c",
   "metadata": {},
   "source": [
    "- Se observan los NaN identificados previamente. Los demás datos parecen OK.\n",
    "- Las personas físicas coinciden con los NaN.\n",
    "- La mayoría de los clientes empresa son de tipo MICRO y continuan en orden ascendente.\n"
   ]
  },
  {
   "cell_type": "code",
   "execution_count": null,
   "id": "d3d7cd2f-79c5-4c25-975b-50fea8ab35ff",
   "metadata": {},
   "outputs": [],
   "source": [
    "df_clientes_csv_rfm_with_label[\"TAMAÑO\"] = df_clientes_csv_rfm_with_label[\"TAMAÑO\"].fillna(\"VACIO\")"
   ]
  },
  {
   "attachments": {},
   "cell_type": "markdown",
   "id": "cfaf1a9c-4783-4da3-9b73-6d26b25e54a6",
   "metadata": {},
   "source": [
    "**ANTIGUEDAD**\n",
    "\n",
    "Antigüedad de la Sociedad(no Personas Físicas):\n",
    "- Menos de 3 Meses\n",
    "- De 3 a 18 Meses\n",
    "- De 18 Meses a 3 Años\n",
    "- De 3 a 5 Años\n",
    "- De 5 a 10 Años\n",
    "- Más de 10 Años\n",
    "- SIN FECHA DE CONSTITUCION"
   ]
  },
  {
   "cell_type": "code",
   "execution_count": null,
   "id": "e7373eda-0489-443c-b528-f42b5efd8487",
   "metadata": {},
   "outputs": [],
   "source": [
    "df_clientes_csv_rfm_with_label[\"ANTIGUEDAD\"].value_counts(dropna=False)"
   ]
  },
  {
   "cell_type": "markdown",
   "id": "f065f917-19bf-4b88-8f92-b7268fec6112",
   "metadata": {},
   "source": [
    "- Se observan los NaN identificados previamente. Los demás datos parecen OK.\n",
    "- Las personas físicas coinciden con los NaN.\n",
    "- La mayoría de los clientes empresa tienen más de 10 años de antiguedad como empresa. ¿Las empresas con más experiencia son las que consumen este tipo de servicios?"
   ]
  },
  {
   "cell_type": "code",
   "execution_count": null,
   "id": "a1e171b1-1627-429e-a9ce-2b0378818fe1",
   "metadata": {},
   "outputs": [],
   "source": [
    "df_clientes_csv_rfm_with_label[\"ANTIGUEDAD\"] = df_clientes_csv_rfm_with_label[\"ANTIGUEDAD\"].fillna(\"VACIO\")"
   ]
  },
  {
   "attachments": {},
   "cell_type": "markdown",
   "id": "0ab31815-b94c-4cbe-aa3c-fa44149c5dca",
   "metadata": {},
   "source": [
    "**DIASCLIENTE**\n",
    "\n",
    "Días transcurridos desde la Fecha de Registro hasta la Fecha de cliente"
   ]
  },
  {
   "cell_type": "code",
   "execution_count": null,
   "id": "eb28efcb-60cd-488e-9d49-efccc7346aaa",
   "metadata": {},
   "outputs": [],
   "source": [
    "df_clientes_csv_rfm_with_label[\"DIASCLIENTE\"].describe()"
   ]
  },
  {
   "cell_type": "markdown",
   "id": "52d8b93f-a424-44f2-ba6a-98d44caeeb30",
   "metadata": {},
   "source": [
    "Check días cliente"
   ]
  },
  {
   "cell_type": "code",
   "execution_count": null,
   "id": "35a06268-0c2a-497a-868e-d769f71cf23f",
   "metadata": {},
   "outputs": [],
   "source": [
    "dias_cliente = df_clientes_csv_rfm_with_label[\"FECHA_CLIENTE\"] - df_clientes_csv_rfm_with_label[\"FECHA_REGISTRO\"]"
   ]
  },
  {
   "cell_type": "code",
   "execution_count": null,
   "id": "29860cf8-74f1-4754-8527-b1d5d86e6f02",
   "metadata": {},
   "outputs": [],
   "source": [
    "dias_cliente.describe()"
   ]
  },
  {
   "cell_type": "markdown",
   "id": "e285d722-5b51-4080-b7a9-1a7560fed9a1",
   "metadata": {},
   "source": [
    "- La variable está OK, con un gran sesgo hacia el cero. La mayoría de clientes se registra y compra el mismo día."
   ]
  },
  {
   "attachments": {},
   "cell_type": "markdown",
   "id": "c7d91050-800f-44b5-a9b0-6c3b6d3d2b03",
   "metadata": {},
   "source": [
    "**CONSUMOSTOTAL**\n",
    "\n",
    "Número de Consumos/Consultas"
   ]
  },
  {
   "cell_type": "code",
   "execution_count": null,
   "id": "3f723c09-e46d-4e58-9a33-31294f8d6a88",
   "metadata": {},
   "outputs": [],
   "source": [
    "df_clientes_csv_rfm_with_label[\"CONSUMOSTOTAL\"].describe()"
   ]
  },
  {
   "cell_type": "markdown",
   "id": "36bf6f4f-2568-4e04-81a3-a55c9caf9dda",
   "metadata": {},
   "source": [
    "- Varible OK"
   ]
  },
  {
   "cell_type": "code",
   "execution_count": null,
   "id": "c9bb6af7-3997-44b0-bade-9b511f6efa5a",
   "metadata": {},
   "outputs": [],
   "source": [
    "df_clientes_csv.columns"
   ]
  },
  {
   "attachments": {},
   "cell_type": "markdown",
   "id": "2988a228-5b4a-4754-97a3-6a427d3b3158",
   "metadata": {},
   "source": [
    "**EMPRESASUNICAS_CONSULT**\n",
    "\n",
    "Número de empresas consultadas"
   ]
  },
  {
   "cell_type": "code",
   "execution_count": null,
   "id": "5c0ad7e8-7440-4678-844b-253cd7a61b07",
   "metadata": {},
   "outputs": [],
   "source": [
    "df_clientes_csv_rfm_with_label[\"EMPRESASUNICAS_CONSULT\"].describe()"
   ]
  },
  {
   "cell_type": "markdown",
   "id": "bd5fd576-84f9-4fe8-bcdb-3e308e9a05f6",
   "metadata": {},
   "source": [
    "- Variable OK"
   ]
  },
  {
   "attachments": {},
   "cell_type": "markdown",
   "id": "25ef8fe6-8aab-4187-ae27-bc2776432250",
   "metadata": {},
   "source": [
    "**NUM_COMPRAS**\n",
    "\n",
    "Numero de Compras/Ventas"
   ]
  },
  {
   "cell_type": "code",
   "execution_count": null,
   "id": "15949f7d-956d-47ae-b712-948dca9525ae",
   "metadata": {},
   "outputs": [],
   "source": [
    "df_clientes_csv_rfm_with_label[\"NUM_COMPRAS\"].describe()"
   ]
  },
  {
   "cell_type": "markdown",
   "id": "8b03655c-c7ca-4402-9df0-abf20645abaa",
   "metadata": {},
   "source": [
    "- El mínimo concuerda con el filtro de \"mínimo 4 compras\" para entrar en el análisis RFM."
   ]
  },
  {
   "attachments": {},
   "cell_type": "markdown",
   "id": "801c14d0-334d-4d6d-8800-4bd04cd2c549",
   "metadata": {},
   "source": [
    "**IMPORTE_COMPRAS**\n",
    "\n",
    "Importe de las compras"
   ]
  },
  {
   "cell_type": "code",
   "execution_count": null,
   "id": "9578c186-635d-4151-a733-04509bbb90c4",
   "metadata": {},
   "outputs": [],
   "source": [
    "df_clientes_csv_rfm_with_label[\"IMPORTE_COMPRAS\"].describe()"
   ]
  },
  {
   "cell_type": "markdown",
   "id": "e7efb441-2975-4668-818c-94af6b779aa5",
   "metadata": {},
   "source": [
    "Check con el fichero de ventas, filtrado para los cliente del RFM y sumando los importes comprados"
   ]
  },
  {
   "cell_type": "code",
   "execution_count": null,
   "id": "d9f7605a-6d70-41b8-bdf9-e1681ca017ea",
   "metadata": {},
   "outputs": [],
   "source": [
    "df_ventas_csv.set_index(\"ID\").join(df_rfm,how=\"inner\").groupby(\"ID\").agg(total_importe=(\"IMPORTE\",\"sum\")).describe()"
   ]
  },
  {
   "cell_type": "markdown",
   "id": "0bdcc76e-3dce-4220-a0c8-74768ad9e563",
   "metadata": {},
   "source": [
    "- Encaja perfectamente."
   ]
  },
  {
   "cell_type": "markdown",
   "id": "90ceb7b2-942c-47f2-8442-d8385233cb7c",
   "metadata": {},
   "source": [
    "### Selección de características"
   ]
  },
  {
   "cell_type": "markdown",
   "id": "97748b3b-5a2d-4b9d-b4f9-5be9f8e7332a",
   "metadata": {},
   "source": [
    "**Variables numéricas**"
   ]
  },
  {
   "cell_type": "markdown",
   "id": "376170fd-e0c1-4c5c-a29f-397c988b9e82",
   "metadata": {},
   "source": [
    "**Matriz de correlación**"
   ]
  },
  {
   "cell_type": "code",
   "execution_count": null,
   "id": "9b2fb321-e41d-4c97-8c7b-8c6fe5646125",
   "metadata": {},
   "outputs": [],
   "source": [
    "corr_matrix = df_clientes_csv_rfm_with_label.drop([\"class\"], axis=1).corr(numeric_only=True).round(2)\n",
    "plt.figure(figsize=(6,4))\n",
    "sns.heatmap(corr_matrix, annot=True, cmap='coolwarm', square=True,vmin=-1, vmax=1)\n",
    "plt.xticks(rotation=70);"
   ]
  },
  {
   "cell_type": "markdown",
   "id": "29148583-5565-4858-82b9-58bcc00cb54c",
   "metadata": {},
   "source": [
    "- CLIENTEPORCAMPAÑAEMAIL no tienen correlación con ninguna variable.\n",
    "- DIASCLIENTE tampoco.\n",
    "- Las variables derivadas del consumo y compra (CONSUMOSTOTAL, EMPRESASUNICAS_CONSULT, NUM_COMPRAS e IMPORTE_COMPRAS) están correlacionadas como era de esperar.\n",
    "- A priori, vamos a descartar EMPRESASUNICAS_CONSULT por tener una correlación de 0.91 con CONSUMOSTOTAL.\n",
    "- Tal vez descartemos también IMPORTE_COMPRAS por tener mucha correlación (0.7) con CONSUMOSTOTAL."
   ]
  },
  {
   "cell_type": "markdown",
   "id": "06fcaa93-982c-4e52-b44e-c5ad9c7f5fef",
   "metadata": {},
   "source": [
    "**PCA**"
   ]
  },
  {
   "cell_type": "code",
   "execution_count": null,
   "id": "8f5ef2b1-3ee7-46b3-b235-294a21fef780",
   "metadata": {},
   "outputs": [],
   "source": [
    "from sklearn.decomposition import PCA"
   ]
  },
  {
   "cell_type": "code",
   "execution_count": null,
   "id": "e71347fd-48ea-4eba-9453-f305d88e4dd5",
   "metadata": {},
   "outputs": [],
   "source": [
    "#seleccionar columnas numéricas\n",
    "df_numeric_columns = df_clientes_csv_rfm_with_label.drop([\"class\"], axis=1).select_dtypes(include=['number'])\n",
    "df_numeric_columns.head()"
   ]
  },
  {
   "cell_type": "code",
   "execution_count": null,
   "id": "aded8376-9dcc-4c86-9500-65593265681b",
   "metadata": {},
   "outputs": [],
   "source": [
    "# Escalado y PCAz\n",
    "scaler = StandardScaler()\n",
    "scaled_data = scaler.fit_transform(df_numeric_columns)\n",
    "\n",
    "pca = PCA()\n",
    "pca.fit(scaled_data);\n",
    "\n",
    "df_pca = pd.DataFrame(pca.components_, columns=df_numeric_columns.columns)\n",
    "\n",
    "df_pca[\"varianza\"] =  pca.explained_variance_ratio_\n",
    "\n",
    "df_pca = df_pca.apply(lambda x: round(x,2))"
   ]
  },
  {
   "cell_type": "markdown",
   "id": "81508605-c451-4f51-adc2-23fd84ecbe81",
   "metadata": {},
   "source": [
    "Visualización PCA"
   ]
  },
  {
   "cell_type": "code",
   "execution_count": null,
   "id": "a177b5b2-91f1-4fc1-90fe-1e5fb35d9172",
   "metadata": {},
   "outputs": [],
   "source": [
    "sns.heatmap(df_pca, annot=True, cmap='coolwarm',  square=True)\n",
    "plt.xticks(rotation=70);"
   ]
  },
  {
   "cell_type": "markdown",
   "id": "0047afff-32cf-4b32-a028-cc8101378637",
   "metadata": {},
   "source": [
    "- Los 4 primeros componentes explican el 94% de la varianza de los datos. Descartamos el análisis de los dos últimos\n",
    "- Se puede observar que hay dos grupos de variables diferenciados:\n",
    "    - En el primer componente (49% de la varianza), destacan las 4 variables relacionadas con las compras y el consumo y las cuatro afectan prácticamente con la misma proporcionalidad y en la misma dirección. Ya sabíamos que estaban muy correlacionadas. En el análisis, CONSUMOSTOTAL, EMPRESASUNICAS_CONSULT e IMPORTE_COMPRAS tienen prácticamente el mismo valor. Ya lo habíamos detectado en la matriz de correlación. NUM_COMPRAS tiene una dirección un poco diferente. La combinación de matriz de correlación y PCA nos inclinaría a seleccionar sólo **CONSUMOSTOTAL** y **NUM_COMPRAS**.\n",
    "    - En el segundo y tercer componentes (33% de la varianza), destacan las otras dos variables, **CLIENTEPORCAMPAÑAEMAIL** y **DIASCLIENTE**. En uno de los componentes es la misma dirección y en el otro componente, opuestas. Vamos a incluir ambas variables.\n",
    "    - En el cuarto componente (12% de la varianza) se captura la variablidad de los cuatro características de compra y consumo. Vamos que **NUM_COMPRAS** destaca en su afectación y merece la pena destacar que entre **CONSUMOSTOTAL** y **EMPRESASUNICAS_CONSULT**, la segunda tiene más relevancia, de manera que nos vamos a inclinar a escogerla en lugar de la primera."
   ]
  },
  {
   "cell_type": "code",
   "execution_count": null,
   "id": "ccc39b58-146e-49f4-8c0a-bc3944c3e75c",
   "metadata": {},
   "outputs": [],
   "source": [
    "selected_numeric_features = df_numeric_columns.drop([\"EMPRESASUNICAS_CONSULT\",\"IMPORTE_COMPRAS\",\"NUM_COMPRAS\"], axis=1).columns.tolist()"
   ]
  },
  {
   "cell_type": "markdown",
   "id": "3f8450ad-4a38-499e-9fc8-9ef180c01bd6",
   "metadata": {},
   "source": [
    "**Variables categóricas**"
   ]
  },
  {
   "cell_type": "code",
   "execution_count": null,
   "id": "bd000651-beb4-402f-a5f2-6332468efafc",
   "metadata": {},
   "outputs": [],
   "source": [
    "df_cat_columns = df_clientes_csv.select_dtypes(include=['object'])\n",
    "df_cat_columns = df_cat_columns.drop(columns=[\"DESC_SECTOR\"])\n",
    "\n",
    "print(df_cat_columns.columns)"
   ]
  },
  {
   "cell_type": "markdown",
   "id": "63f39d88-7f92-43a1-8cf5-e30adb61774b",
   "metadata": {},
   "source": [
    "Evaluamos la independencia de todas las variables categóricas, por pares."
   ]
  },
  {
   "cell_type": "code",
   "execution_count": null,
   "id": "73414479-69fc-4aa5-9f9c-8649de24a054",
   "metadata": {},
   "outputs": [],
   "source": [
    "from sklearn.feature_selection import chi2"
   ]
  },
  {
   "cell_type": "code",
   "execution_count": null,
   "id": "4c3103e4-9659-4a7b-b3e2-8d6589a135d7",
   "metadata": {},
   "outputs": [],
   "source": [
    "for i, col_i in enumerate(df_cat_columns.columns):\n",
    "    for j, col_j in enumerate(df_cat_columns.columns[(i+1):]):\n",
    "\n",
    "        X_encoded = df_cat_columns.loc[:,col_i].fillna(\"NA\").astype('category').cat.codes.to_frame()\n",
    "        Y_encoded = df_cat_columns.loc[:,col_j].fillna(\"NA\").astype('category').cat.codes.to_frame()\n",
    "\n",
    "        chi2_stat, p_value = chi2(X_encoded, Y_encoded)\n",
    "\n",
    "        if (p_value>0.05):\n",
    "            print(\"Correlated features: \",col_i,col_j)"
   ]
  },
  {
   "cell_type": "markdown",
   "id": "f6d37e13-d2e8-4b4b-ba92-f6dd2d09f8e1",
   "metadata": {},
   "source": [
    "Todas las variables son independientes"
   ]
  },
  {
   "cell_type": "code",
   "execution_count": null,
   "id": "574ef44f-f6f6-487a-8a0b-96cee8f73aaf",
   "metadata": {},
   "outputs": [],
   "source": [
    "selected_categorical_features = df_cat_columns.columns.tolist()"
   ]
  },
  {
   "cell_type": "code",
   "execution_count": null,
   "id": "5941c588-a676-47e5-a4bc-4af93e220c9f",
   "metadata": {},
   "outputs": [],
   "source": [
    "print(selected_categorical_features)"
   ]
  },
  {
   "cell_type": "markdown",
   "id": "bfacd6e8-622d-4f19-ac79-c09ea3087c87",
   "metadata": {},
   "source": [
    "### Importancia de las características"
   ]
  },
  {
   "cell_type": "code",
   "execution_count": null,
   "id": "7fe4fba0-cd48-462e-8c0b-7443fee8887a",
   "metadata": {},
   "outputs": [],
   "source": [
    "X_num = df_clientes_csv_rfm_with_label[selected_numeric_features]\n",
    "X_cat = df_clientes_csv_rfm_with_label[selected_categorical_features]\n",
    "y = df_clientes_csv_rfm_with_label[\"class\"]"
   ]
  },
  {
   "cell_type": "code",
   "execution_count": null,
   "id": "d4d54dec-d008-4be0-981a-afd62a337e88",
   "metadata": {},
   "outputs": [],
   "source": [
    "encoder = OneHotEncoder(sparse_output=False)\n",
    "X_encoded = encoder.fit_transform(X_cat)"
   ]
  },
  {
   "cell_type": "code",
   "execution_count": null,
   "id": "9d1430fe-191b-429c-9695-47b948819a05",
   "metadata": {},
   "outputs": [],
   "source": [
    "X = np.concatenate((X_num, X_encoded), axis=1)"
   ]
  },
  {
   "cell_type": "code",
   "execution_count": null,
   "id": "1e3e7de5-a71b-4e43-b11f-c804e0ac6e9d",
   "metadata": {},
   "outputs": [],
   "source": [
    "features = selected_numeric_features + encoder.get_feature_names_out().tolist()"
   ]
  },
  {
   "cell_type": "markdown",
   "id": "4fbfb3f8-5424-47c1-a29f-5ca4dd9e73fe",
   "metadata": {},
   "source": [
    "**Oversampling**"
   ]
  },
  {
   "cell_type": "code",
   "execution_count": null,
   "id": "368471b8-1481-4af2-b519-1a9602cd2928",
   "metadata": {},
   "outputs": [],
   "source": [
    "from imblearn.over_sampling import RandomOverSampler\n",
    "X_ros, y_ros = RandomOverSampler(random_state=10).fit_resample(X, y)"
   ]
  },
  {
   "cell_type": "markdown",
   "id": "6e84dc10-8ff3-4a92-803a-3b786785d27f",
   "metadata": {},
   "source": [
    "**Visualización de las reglas**"
   ]
  },
  {
   "cell_type": "markdown",
   "id": "1a328fbe-90f5-4def-8a7c-7f1ab8d43935",
   "metadata": {},
   "source": [
    "Para entender mejor las reglas de clasificación de los clientes según el modelo RFM, entrenamos un arbol de decisión y visualizamos el resultado"
   ]
  },
  {
   "cell_type": "code",
   "execution_count": null,
   "id": "d804bef9-254d-47fa-9df0-117f855adf9f",
   "metadata": {},
   "outputs": [],
   "source": [
    "from sklearn import tree\n",
    "import pydotplus\n",
    "from PIL import Image"
   ]
  },
  {
   "cell_type": "code",
   "execution_count": null,
   "id": "3b887270-950d-4fda-9f16-ad777cc36f28",
   "metadata": {},
   "outputs": [],
   "source": [
    "clf = tree.DecisionTreeClassifier()\n",
    "clf = clf.fit(X_ros, y_ros)\n",
    "\n",
    "# Código extraiodo de ChatGTP y adaptado al proyecto\n",
    "dot_data = tree.export_graphviz(clf\n",
    "                                ,feature_names=features, \n",
    "                                class_names=df_labels[\"class_desc_short\"],\n",
    "                                max_depth=3,\n",
    "                                filled=True)\n",
    "\n",
    "# Convert DOT data to a graph\n",
    "graph = pydotplus.graph_from_dot_data(dot_data)\n",
    "\n",
    "# Save the graph as a JPG file\n",
    "graph.write_jpg(\"decision_tree.jpg\")\n",
    "\n",
    "# (Optional) Display the image using PIL\n",
    "img = Image.open(\"decision_tree.jpg\")\n",
    "img.show()"
   ]
  },
  {
   "cell_type": "markdown",
   "id": "172f051e-1f4b-4cc2-8cae-a6e7f8c3ad43",
   "metadata": {},
   "source": [
    "![Decision Tree](./decision_tree.jpg)"
   ]
  },
  {
   "cell_type": "markdown",
   "id": "2da3e245-7176-4d84-9edd-0eeed4301dcc",
   "metadata": {},
   "source": [
    "- El primer nodo de decisión del arbol, reparte los clientes entre CP (Clientes Puntuales) y CH (Clientes Habituales) según el número de veces que han comprado. Para ser considerado CH, has debido comprar más de 6 veces. Por esta rama del arbol, para ser considerado CPREM (Cliente Premiun) tienes que comprar más de 31 veces, aunque este grupo tiene un gini cerca del 50%, ya que el grupo contiene muchos CH.\n",
    "- Para encontrar clientes premium, el decison es claramente el número de compras.\n",
    "- **Número de compras** es un factor muy relevante a la hora de distinguir el tipo de cliente. El problema de esta variable es que para poder clasificar a un cliente, necesitamos que compre mucho y tal vez, nos gustaría poder **anticipar esta clasificación**."
   ]
  },
  {
   "cell_type": "markdown",
   "id": "839711d5-d2d9-4a88-b812-20cdd7d4e152",
   "metadata": {},
   "source": [
    "**Evaluación de la importancia de las variables por permutación**"
   ]
  },
  {
   "cell_type": "code",
   "execution_count": null,
   "id": "b484ff12-c10f-4f28-9bbf-0e807226c1b4",
   "metadata": {},
   "outputs": [],
   "source": [
    "from sklearn.inspection import permutation_importance\n",
    "\n",
    "result = permutation_importance(clf, X, y, n_repeats=10,\n",
    "                                random_state=0, scoring=\"f1_macro\")"
   ]
  },
  {
   "cell_type": "code",
   "execution_count": null,
   "id": "7198c3ac-88d1-4950-9b84-e9c86486ef3c",
   "metadata": {},
   "outputs": [],
   "source": [
    "importances = pd.DataFrame(zip(features, result.importances_mean), columns=[\"feature\",\"importance\"]).set_index(\"feature\")\n",
    "\n",
    "importances.sort_values(by=\"importance\", ascending=False).head(10)"
   ]
  },
  {
   "cell_type": "markdown",
   "id": "9710cbb6-ec89-4839-a250-7a0da06e8e52",
   "metadata": {},
   "source": [
    "- Confirmamos que NUM_COMPRAS es la variable con mayor capacidad de separación, seguido por las empresas únicas consultadas."
   ]
  },
  {
   "cell_type": "markdown",
   "id": "5d272b66-8197-4e46-a807-449daef8bc74",
   "metadata": {},
   "source": [
    "### Entrenamiento del modelo"
   ]
  },
  {
   "cell_type": "markdown",
   "id": "8bc9ab2f-3c05-40c3-b205-ed799fb0d387",
   "metadata": {},
   "source": [
    "**Conjuntos de entrenamiento y test**"
   ]
  },
  {
   "cell_type": "code",
   "execution_count": null,
   "id": "690894a6-95fc-4129-b398-1ac568c3f4c2",
   "metadata": {},
   "outputs": [],
   "source": [
    "X_train, X_test, y_train, y_test = train_test_split(X_ros, y_ros, test_size=0.33, random_state=42)"
   ]
  },
  {
   "cell_type": "markdown",
   "id": "8d6fa22e-fbdf-4746-a88a-74351a5d4c66",
   "metadata": {},
   "source": [
    "\n",
    "**Tuning hyper-parameter**"
   ]
  },
  {
   "cell_type": "code",
   "execution_count": null,
   "id": "f5af539c-4c92-4028-9dde-dafb9731f93c",
   "metadata": {},
   "outputs": [],
   "source": [
    "from sklearn.model_selection import GridSearchCV\n",
    "\n",
    "param_grid = [{'max_depth': range(2,20), 'min_samples_split': [5, 10, 20, 30, 40]}]\n",
    "\n",
    "dec_tree = tree.DecisionTreeClassifier()\n",
    "clf = GridSearchCV(dec_tree, param_grid, cv=5, scoring=\"f1_macro\")\n",
    "clf.fit(X_train, y_train)"
   ]
  },
  {
   "cell_type": "code",
   "execution_count": null,
   "id": "8dccc015-5113-4b20-801a-28fe396dbf33",
   "metadata": {},
   "outputs": [],
   "source": [
    "clf.best_params_ "
   ]
  },
  {
   "cell_type": "markdown",
   "id": "c5a891b2-a6e8-43d1-b899-f863dc7cd6cd",
   "metadata": {},
   "source": [
    "**Re-train with best parameters**"
   ]
  },
  {
   "cell_type": "code",
   "execution_count": null,
   "id": "bb7db9f9-32d9-4e1c-96a5-99890c3f48b5",
   "metadata": {},
   "outputs": [],
   "source": [
    "dec_tree = tree.DecisionTreeClassifier(max_depth=19, min_samples_split=5)\n",
    "clf.fit(X_train, y_train)"
   ]
  },
  {
   "cell_type": "markdown",
   "id": "23de781d-7b29-4a75-a5b1-f57339a1dc85",
   "metadata": {},
   "source": [
    "**Evaluate model**"
   ]
  },
  {
   "cell_type": "code",
   "execution_count": null,
   "id": "be21ee4d-fa32-4be4-acd9-38c9b0ce3651",
   "metadata": {},
   "outputs": [],
   "source": [
    "from sklearn.metrics import confusion_matrix, ConfusionMatrixDisplay,  roc_auc_score\n",
    "\n",
    "y_pred = clf.predict(X_test)\n",
    "\n",
    "ConfusionMatrixDisplay.from_predictions(y_test, y_pred, display_labels=df_labels[\"class_desc_short\"], cmap=\"Oranges\");"
   ]
  },
  {
   "cell_type": "markdown",
   "id": "b11cf020-f71c-4158-8046-366c58e2f246",
   "metadata": {},
   "source": [
    "# PRUEBAS"
   ]
  },
  {
   "cell_type": "code",
   "execution_count": null,
   "id": "9d64ae53-69c1-4016-b533-5ded4840151d",
   "metadata": {},
   "outputs": [],
   "source": [
    "df_rfm_nuevo = df_clientes_csv_rfm_with_label.join(df_rfm.drop([\"class\"], axis=1), how=\"inner\")"
   ]
  },
  {
   "cell_type": "code",
   "execution_count": null,
   "id": "d3ba3f1f-3724-44c6-bf33-fdeef6996988",
   "metadata": {},
   "outputs": [],
   "source": [
    "df_labels"
   ]
  },
  {
   "cell_type": "code",
   "execution_count": null,
   "id": "8fb024e9-d972-46ba-b16f-cac62c7e86f3",
   "metadata": {},
   "outputs": [],
   "source": [
    "df_rfm_nuevo_temp = df_rfm_nuevo[df_rfm_nuevo[\"class_desc_short\"]==\"CSUP\"]\n",
    "#df_rfm_nuevo_temp = df_rfm_nuevo"
   ]
  },
  {
   "cell_type": "code",
   "execution_count": null,
   "id": "43b022cf-bffb-48a6-a77c-3b49a9352a53",
   "metadata": {},
   "outputs": [],
   "source": [
    "print_scatter_subplots_with_highlight(df_rfm_nuevo_temp, [(\"monetary\", \"frequency\")], df_rfm_nuevo_temp[\"FORMAJURIDICA\"].astype('category').cat.codes, None)"
   ]
  },
  {
   "cell_type": "code",
   "execution_count": null,
   "id": "d883705f-c605-4032-b6ea-cd66b164b48f",
   "metadata": {},
   "outputs": [],
   "source": []
  }
 ],
 "metadata": {
  "kernelspec": {
   "display_name": "Python 3",
   "language": "python",
   "name": "python3"
  },
  "language_info": {
   "codemirror_mode": {
    "name": "ipython",
    "version": 3
   },
   "file_extension": ".py",
   "mimetype": "text/x-python",
   "name": "python",
   "nbconvert_exporter": "python",
   "pygments_lexer": "ipython3",
   "version": "3.10.11"
  }
 },
 "nbformat": 4,
 "nbformat_minor": 5
}
